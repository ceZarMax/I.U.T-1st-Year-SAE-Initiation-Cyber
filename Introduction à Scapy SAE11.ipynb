{
 "cells": [
  {
   "cell_type": "markdown",
   "metadata": {},
   "source": [
    "# Introduction"
   ]
  },
  {
   "cell_type": "markdown",
   "metadata": {},
   "source": [
    "Il existe de nombreux outils de sécurité que vous pouvez retrouvez par exemple dans la distribution Kali Linux. Cependant, ces outils de sécurité ont des paramètres modifiables limités. Vous vous retrouverez donc toujours dans des situations où vous souhaitez générer une séquence de paquets qui n'est pas possible avec ces logiciels et vous devrez construire vos propres outils.\n",
    "\n",
    "Scapy est un puissant programme interactif de manipulation de paquets. Il est capable de forger et d'envoyer des paquets avec un grand nombre de protocoles réseau, de recevoir, de capturer et d'analyser des paquets (récupérer des informations dans le paquet), de faire correspondre des requêtes et des réponses, et bien plus encore. On vous propose ici une introduction à Scapy en vous présentant les fonctionnalité nécessaires à la réalisation de votre SAE. Un cours spécifique sur Scapy vous sera donnée dans le module R307 Penstesting si vous choissiez le parcours Cybersécurité. Vous pouvez trouver plus d'informations dans la documentation en ligne à l'adresse https://scapy.readthedocs.io."
   ]
  },
  {
   "cell_type": "markdown",
   "metadata": {},
   "source": [
    "# Configuration par défaut et protocoles supportés"
   ]
  },
  {
   "cell_type": "markdown",
   "metadata": {},
   "source": [
    "Scapy peut être utiliser selon 2 modes : en mode interactif depuis un terminal en tapant scapy ou dans un script ou un notebook Jupyter en Python. On importe la librairie scapy avec : **from scapy.all import ***.\n",
    "\n",
    "Les paramètres de configuration par défaut peuvent être visualisés et modifiés avec la commande conf.\n",
    "\n",
    "Remarque : on rappelle que les chaines de caractères formatées (aussi appelées f-strings) permettent d’inclure la valeur d’expressions Python dans des chaines de caractères en les préfixant avec f\" chaine {expression}\"."
   ]
  },
  {
   "cell_type": "code",
   "execution_count": 12,
   "metadata": {},
   "outputs": [
    {
     "name": "stdout",
     "output_type": "stream",
     "text": [
      "La version de Scapy est 2.4.3.\n",
      "\n",
      "L'interface par défaut utilisée pour l'émission et la réception des paquets est en0.\n",
      "\n",
      "La table de routage utilisée est : \n",
      "  Network          Netmask          Gateway        Iface  Output IP     Metric\n",
      "0.0.0.0          0.0.0.0          192.168.1.254  en0    192.168.1.48  1\n",
      "127.0.0.0        255.0.0.0        0.0.0.0        lo0    127.0.0.1     1\n",
      "127.0.0.1        255.255.255.255  0.0.0.0        lo0    127.0.0.1     1\n",
      "169.254.0.0      255.255.0.0      0.0.0.0        en0    192.168.1.48  1\n",
      "192.168.1.0      255.255.255.0    0.0.0.0        en0    192.168.1.48  1\n",
      "192.168.1.13     255.255.255.255  0.0.0.0        en0    192.168.1.48  1\n",
      "192.168.1.254    255.255.255.255  0.0.0.0        en0    192.168.1.48  1\n",
      "192.168.1.254    255.255.255.255  0.0.0.0        en0    192.168.1.48  1\n",
      "192.168.1.255    255.255.255.255  0.0.0.0        en0    192.168.1.48  1\n",
      "192.168.1.29     255.255.255.255  0.0.0.0        en0    192.168.1.48  1\n",
      "192.168.1.48     255.255.255.255  0.0.0.0        en0    192.168.1.48  1\n",
      "192.168.1.48     255.255.255.255  0.0.0.0        lo0    127.0.0.1     1\n",
      "192.168.1.49     255.255.255.255  0.0.0.0        en0    192.168.1.48  1\n",
      "192.168.1.5      255.255.255.255  0.0.0.0        en0    192.168.1.48  1\n",
      "224.0.0.0        240.0.0.0        0.0.0.0        en0    192.168.1.48  1\n",
      "224.0.0.251      255.255.255.255  0.0.0.0        en0    192.168.1.48  1\n",
      "239.255.255.250  255.255.255.255  0.0.0.0        en0    192.168.1.48  1\n",
      "255.255.255.255  255.255.255.255  0.0.0.0        en0    192.168.1.48  1.\n",
      "\n",
      "La passerelle par défaut est : 192.168.1.254\n"
     ]
    }
   ],
   "source": [
    "from scapy.all import *\n",
    "print(f\"La version de Scapy est {conf.version}.\")\n",
    "print(f\"\\nL'interface par défaut utilisée pour l'émission et la réception des paquets est {conf.iface}.\")\n",
    "print(f\"\\nLa table de routage utilisée est : \\n  {conf.route}.\")\n",
    "print('\\nLa passerelle par défaut est :', conf.route.route(\"0.0.0.0\")[2])"
   ]
  },
  {
   "cell_type": "markdown",
   "metadata": {},
   "source": [
    "Pour voir les protocoles pris en charge et la structure des données de protocole, utilisez la commande ls(protocole). Certains champs ont une valeur par défaut (par exemple 64 pour le ttl dans un paquet IP) :"
   ]
  },
  {
   "cell_type": "code",
   "execution_count": 13,
   "metadata": {},
   "outputs": [
    {
     "name": "stdout",
     "output_type": "stream",
     "text": [
      "AH         : AH\n",
      "AKMSuite   : AKM suite\n",
      "ARP        : ARP\n",
      "ASN1P_INTEGER : None\n",
      "ASN1P_OID  : None\n",
      "ASN1P_PRIVSEQ : None\n",
      "ASN1_Packet : None\n",
      "ATT_Error_Response : Error Response\n",
      "ATT_Exchange_MTU_Request : Exchange MTU Request\n",
      "ATT_Exchange_MTU_Response : Exchange MTU Response\n",
      "ATT_Execute_Write_Request : Execute Write Request\n",
      "ATT_Execute_Write_Response : Execute Write Response\n",
      "ATT_Find_By_Type_Value_Request : Find By Type Value Request\n",
      "ATT_Find_By_Type_Value_Response : Find By Type Value Response\n",
      "ATT_Find_Information_Request : Find Information Request\n",
      "ATT_Find_Information_Response : Find Information Response\n",
      "ATT_Handle : ATT Short Handle\n",
      "ATT_Handle_UUID128 : ATT Handle (UUID 128)\n",
      "ATT_Handle_Value_Indication : Handle Value Indication\n",
      "ATT_Handle_Value_Notification : Handle Value Notification\n",
      "ATT_Handle_Variable : None\n",
      "ATT_Hdr    : ATT header\n",
      "ATT_Prepare_Write_Request : Prepare Write Request\n",
      "ATT_Prepare_Write_Response : Prepare Write Response\n",
      "ATT_Read_Blob_Request : Read Blob Request\n",
      "ATT_Read_Blob_Response : Read Blob Response\n",
      "ATT_Read_By_Group_Type_Request : Read By Group Type Request\n",
      "ATT_Read_By_Group_Type_Response : Read By Group Type Response\n",
      "ATT_Read_By_Type_Request : Read By Type Request\n",
      "ATT_Read_By_Type_Request_128bit : Read By Type Request\n",
      "ATT_Read_By_Type_Response : Read By Type Response\n",
      "ATT_Read_Multiple_Request : Read Multiple Request\n",
      "ATT_Read_Multiple_Response : Read Multiple Response\n",
      "ATT_Read_Request : Read Request\n",
      "ATT_Read_Response : Read Response\n",
      "ATT_Write_Command : Write Request\n",
      "ATT_Write_Request : Write Request\n",
      "ATT_Write_Response : Write Response\n",
      "BOOTP      : BOOTP\n",
      "BTLE       : BT4LE\n",
      "BTLE_ADV   : BTLE advertising header\n",
      "BTLE_ADV_DIRECT_IND : BTLE ADV_DIRECT_IND\n",
      "BTLE_ADV_IND : BTLE ADV_IND\n",
      "BTLE_ADV_NONCONN_IND : BTLE ADV_NONCONN_IND\n",
      "BTLE_ADV_SCAN_IND : BTLE ADV_SCAN_IND\n",
      "BTLE_CONNECT_REQ : BTLE connect request\n",
      "BTLE_DATA  : BTLE data header\n",
      "BTLE_PPI   : BTLE PPI header\n",
      "BTLE_RF    : BTLE RF info header\n",
      "BTLE_SCAN_REQ : BTLE scan request\n",
      "BTLE_SCAN_RSP : BTLE scan response\n",
      "CookedLinux : cooked linux\n",
      "CtrlPDU    : CtrlPDU\n",
      "DHCP       : DHCP options\n",
      "DHCP6      : DHCPv6 Generic Message\n",
      "DHCP6OptAuth : DHCP6 Option - Authentication\n",
      "DHCP6OptBCMCSDomains : DHCP6 Option - BCMCS Domain Name List\n",
      "DHCP6OptBCMCSServers : DHCP6 Option - BCMCS Addresses List\n",
      "DHCP6OptBootFileUrl : DHCP6 Boot File URL Option\n",
      "DHCP6OptClientArchType : DHCP6 Client System Architecture Type Option\n",
      "DHCP6OptClientFQDN : DHCP6 Option - Client FQDN\n",
      "DHCP6OptClientId : DHCP6 Client Identifier Option\n",
      "DHCP6OptClientLinkLayerAddr : DHCP6 Option - Client Link Layer address\n",
      "DHCP6OptClientNetworkInterId : DHCP6 Client Network Interface Identifier Option\n",
      "DHCP6OptDNSDomains : DHCP6 Option - Domain Search List option\n",
      "DHCP6OptDNSServers : DHCP6 Option - DNS Recursive Name Server\n",
      "DHCP6OptERPDomain : DHCP6 Option - ERP Domain Name List\n",
      "DHCP6OptElapsedTime : DHCP6 Elapsed Time Option\n",
      "DHCP6OptGeoConf : \n",
      "DHCP6OptIAAddress : DHCP6 IA Address Option (IA_TA or IA_NA suboption)\n",
      "DHCP6OptIAPrefix : DHCP6 Option - IA_PD Prefix option\n",
      "DHCP6OptIA_NA : DHCP6 Identity Association for Non-temporary Addresses Option\n",
      "DHCP6OptIA_PD : DHCP6 Option - Identity Association for Prefix Delegation\n",
      "DHCP6OptIA_TA : DHCP6 Identity Association for Temporary Addresses Option\n",
      "DHCP6OptIfaceId : DHCP6 Interface-Id Option\n",
      "DHCP6OptInfoRefreshTime : DHCP6 Option - Information Refresh Time\n",
      "DHCP6OptLQClientLink : DHCP6 Client Link Option\n",
      "DHCP6OptNISDomain : DHCP6 Option - NIS Domain Name\n",
      "DHCP6OptNISPDomain : DHCP6 Option - NIS+ Domain Name\n",
      "DHCP6OptNISPServers : DHCP6 Option - NIS+ Servers\n",
      "DHCP6OptNISServers : DHCP6 Option - NIS Servers\n",
      "DHCP6OptNewPOSIXTimeZone : DHCP6 POSIX Timezone Option\n",
      "DHCP6OptNewTZDBTimeZone : DHCP6 TZDB Timezone Option\n",
      "DHCP6OptOptReq : DHCP6 Option Request Option\n",
      "DHCP6OptPanaAuthAgent : DHCP6 PANA Authentication Agent Option\n",
      "DHCP6OptPref : DHCP6 Preference Option\n",
      "DHCP6OptRapidCommit : DHCP6 Rapid Commit Option\n",
      "DHCP6OptReconfAccept : DHCP6 Reconfigure Accept Option\n",
      "DHCP6OptReconfMsg : DHCP6 Reconfigure Message Option\n",
      "DHCP6OptRelayAgentERO : DHCP6 Option - RelayRequest Option\n",
      "DHCP6OptRelayMsg : DHCP6 Relay Message Option\n",
      "DHCP6OptRelaySuppliedOpt : DHCP6 Relay-Supplied Options Option\n",
      "DHCP6OptRemoteID : DHCP6 Option - Relay Agent Remote-ID\n",
      "DHCP6OptSIPDomains : DHCP6 Option - SIP Servers Domain Name List\n",
      "DHCP6OptSIPServers : DHCP6 Option - SIP Servers IPv6 Address List\n",
      "DHCP6OptSNTPServers : DHCP6 option - SNTP Servers\n",
      "DHCP6OptServerId : DHCP6 Server Identifier Option\n",
      "DHCP6OptServerUnicast : DHCP6 Server Unicast Option\n",
      "DHCP6OptStatusCode : DHCP6 Status Code Option\n",
      "DHCP6OptSubscriberID : DHCP6 Option - Subscriber ID\n",
      "DHCP6OptUnknown : Unknown DHCPv6 Option\n",
      "DHCP6OptUserClass : DHCP6 User Class Option\n",
      "DHCP6OptVSS : DHCP6 Option - Virtual Subnet Selection\n",
      "DHCP6OptVendorClass : DHCP6 Vendor Class Option\n",
      "DHCP6OptVendorSpecificInfo : DHCP6 Vendor-specific Information Option\n",
      "DHCP6_Advertise : DHCPv6 Advertise Message\n",
      "DHCP6_Confirm : DHCPv6 Confirm Message\n",
      "DHCP6_Decline : DHCPv6 Decline Message\n",
      "DHCP6_InfoRequest : DHCPv6 Information Request Message\n",
      "DHCP6_Rebind : DHCPv6 Rebind Message\n",
      "DHCP6_Reconf : DHCPv6 Reconfigure Message\n",
      "DHCP6_RelayForward : DHCPv6 Relay Forward Message (Relay Agent/Server Message)\n",
      "DHCP6_RelayReply : DHCPv6 Relay Reply Message (Relay Agent/Server Message)\n",
      "DHCP6_Release : DHCPv6 Release Message\n",
      "DHCP6_Renew : DHCPv6 Renew Message\n",
      "DHCP6_Reply : DHCPv6 Reply Message\n",
      "DHCP6_Request : DHCPv6 Request Message\n",
      "DHCP6_Solicit : DHCPv6 Solicit Message\n",
      "DIR_PPP    : None\n",
      "DNS        : DNS\n",
      "DNSQR      : DNS Question Record\n",
      "DNSRR      : DNS Resource Record\n",
      "DNSRRDLV   : DNS DLV Resource Record\n",
      "DNSRRDNSKEY : DNS DNSKEY Resource Record\n",
      "DNSRRDS    : DNS DS Resource Record\n",
      "DNSRRMX    : DNS MX Resource Record\n",
      "DNSRRNSEC  : DNS NSEC Resource Record\n",
      "DNSRRNSEC3 : DNS NSEC3 Resource Record\n",
      "DNSRRNSEC3PARAM : DNS NSEC3PARAM Resource Record\n",
      "DNSRROPT   : DNS OPT Resource Record\n",
      "DNSRRRSIG  : DNS RRSIG Resource Record\n",
      "DNSRRSOA   : DNS SOA Resource Record\n",
      "DNSRRSRV   : DNS SRV Resource Record\n",
      "DNSRRTSIG  : DNS TSIG Resource Record\n",
      "DUID_EN    : DUID - Assigned by Vendor Based on Enterprise Number\n",
      "DUID_LL    : DUID - Based on Link-layer Address\n",
      "DUID_LLT   : DUID - Link-layer address plus time\n",
      "DUID_UUID  : DUID - Based on UUID\n",
      "Dot11      : 802.11\n",
      "Dot11ATIM  : 802.11 ATIM\n",
      "Dot11Ack   : 802.11 Ack packet\n",
      "Dot11AssoReq : 802.11 Association Request\n",
      "Dot11AssoResp : 802.11 Association Response\n",
      "Dot11Auth  : 802.11 Authentication\n",
      "Dot11Beacon : 802.11 Beacon\n",
      "Dot11CCMP  : 802.11 TKIP packet\n",
      "Dot11Deauth : 802.11 Deauthentication\n",
      "Dot11Disas : 802.11 Disassociation\n",
      "Dot11Elt   : 802.11 Information Element\n",
      "Dot11EltCountry : 802.11 Country\n",
      "Dot11EltCountryConstraintTriplet : 802.11 Country Constraint Triplet\n",
      "Dot11EltMicrosoftWPA : 802.11 Microsoft WPA\n",
      "Dot11EltRSN : 802.11 RSN information\n",
      "Dot11EltRates : 802.11 Rates\n",
      "Dot11EltVendorSpecific : 802.11 Vendor Specific\n",
      "Dot11Encrypted : 802.11 Encrypted (unknown algorithm)\n",
      "Dot11FCS   : 802.11-FCS\n",
      "Dot11ProbeReq : 802.11 Probe Request\n",
      "Dot11ProbeResp : 802.11 Probe Response\n",
      "Dot11QoS   : 802.11 QoS\n",
      "Dot11ReassoReq : 802.11 Reassociation Request\n",
      "Dot11ReassoResp : 802.11 Reassociation Response\n",
      "Dot11TKIP  : 802.11 TKIP packet\n",
      "Dot11WEP   : 802.11 WEP packet\n",
      "Dot15d4    : 802.15.4\n",
      "Dot15d4Ack : 802.15.4 Ack\n",
      "Dot15d4AuxSecurityHeader : 802.15.4 Auxiliary Security Header\n",
      "Dot15d4Beacon : 802.15.4 Beacon\n",
      "Dot15d4Cmd : 802.15.4 Command\n",
      "Dot15d4CmdAssocReq : 802.15.4 Association Request Payload\n",
      "Dot15d4CmdAssocResp : 802.15.4 Association Response Payload\n",
      "Dot15d4CmdCoordRealign : 802.15.4 Coordinator Realign Command\n",
      "Dot15d4CmdDisassociation : 802.15.4 Disassociation Notification Payload\n",
      "Dot15d4CmdGTSReq : 802.15.4 GTS request command\n",
      "Dot15d4Data : 802.15.4 Data\n",
      "Dot15d4FCS : 802.15.4 - FCS\n",
      "Dot1AD     : 802_1AD\n",
      "Dot1Q      : 802.1Q\n",
      "Dot3       : 802.3\n",
      "EAP        : EAP\n",
      "EAPOL      : EAPOL\n",
      "EAP_FAST   : EAP-FAST\n",
      "EAP_MD5    : EAP-MD5\n",
      "EAP_PEAP   : PEAP\n",
      "EAP_TLS    : EAP-TLS\n",
      "EAP_TTLS   : EAP-TTLS\n",
      "ECCurve    : None\n",
      "ECDSAPrivateKey : None\n",
      "ECDSAPrivateKey_OpenSSL : ECDSA Params + Private Key\n",
      "ECDSAPublicKey : None\n",
      "ECDSASignature : None\n",
      "ECFieldID  : None\n",
      "ECParameters : None\n",
      "ECSpecifiedDomain : None\n",
      "EDNS0TLV   : DNS EDNS0 TLV\n",
      "EIR_CompleteList128BitServiceUUIDs : Complete list of 128-bit service UUIDs\n",
      "EIR_CompleteList16BitServiceUUIDs : Complete list of 16-bit service UUIDs\n",
      "EIR_CompleteLocalName : Complete Local Name\n",
      "EIR_Device_ID : Device ID\n",
      "EIR_Element : EIR Element\n",
      "EIR_Flags  : Flags\n",
      "EIR_Hdr    : EIR Header\n",
      "EIR_IncompleteList128BitServiceUUIDs : Incomplete list of 128-bit service UUIDs\n",
      "EIR_IncompleteList16BitServiceUUIDs : Incomplete list of 16-bit service UUIDs\n",
      "EIR_Manufacturer_Specific_Data : EIR Manufacturer Specific Data\n",
      "EIR_Raw    : EIR Raw\n",
      "EIR_ServiceData16BitUUID : EIR Service Data - 16-bit UUID\n",
      "EIR_ShortenedLocalName : Shortened Local Name\n",
      "EIR_TX_Power_Level : TX Power Level\n",
      "ERSPAN     : ERSPAN\n",
      "ESP        : ESP\n",
      "Ether      : Ethernet\n",
      "GPRS       : GPRSdummy\n",
      "GRE        : GRE\n",
      "GRE_PPTP   : GRE PPTP\n",
      "GRErouting : GRE routing information\n",
      "HAO        : Home Address Option\n",
      "HBHOptUnknown : Scapy6 Unknown Option\n",
      "HCI_ACL_Hdr : HCI ACL header\n",
      "HCI_Cmd_Complete_LE_Read_White_List_Size : LE Read White List Size\n",
      "HCI_Cmd_Complete_Read_BD_Addr : Read BD Addr\n",
      "HCI_Cmd_Connect_Accept_Timeout : Connection Attempt Timeout\n",
      "HCI_Cmd_Disconnect : Disconnect\n",
      "HCI_Cmd_LE_Add_Device_To_White_List : LE Add Device to White List\n",
      "HCI_Cmd_LE_Clear_White_List : LE Clear White List\n",
      "HCI_Cmd_LE_Connection_Update : LE Connection Update\n",
      "HCI_Cmd_LE_Create_Connection : LE Create Connection\n",
      "HCI_Cmd_LE_Create_Connection_Cancel : LE Create Connection Cancel\n",
      "HCI_Cmd_LE_Host_Supported : LE Host Supported\n",
      "HCI_Cmd_LE_Long_Term_Key_Request_Negative_Reply : LE Long Term Key Request Negative Reply\n",
      "HCI_Cmd_LE_Long_Term_Key_Request_Reply : LE Long Term Key Request Reply\n",
      "HCI_Cmd_LE_Read_Buffer_Size : LE Read Buffer Size\n",
      "HCI_Cmd_LE_Read_Remote_Used_Features : LE Read Remote Used Features\n",
      "HCI_Cmd_LE_Read_White_List_Size : LE Read White List Size\n",
      "HCI_Cmd_LE_Remove_Device_From_White_List : LE Remove Device from White List\n",
      "HCI_Cmd_LE_Set_Advertise_Enable : LE Set Advertise Enable\n",
      "HCI_Cmd_LE_Set_Advertising_Data : LE Set Advertising Data\n",
      "HCI_Cmd_LE_Set_Advertising_Parameters : LE Set Advertising Parameters\n",
      "HCI_Cmd_LE_Set_Random_Address : LE Set Random Address\n",
      "HCI_Cmd_LE_Set_Scan_Enable : LE Set Scan Enable\n",
      "HCI_Cmd_LE_Set_Scan_Parameters : LE Set Scan Parameters\n",
      "HCI_Cmd_LE_Set_Scan_Response_Data : LE Set Scan Response Data\n",
      "HCI_Cmd_LE_Start_Encryption_Request : LE Start Encryption\n",
      "HCI_Cmd_Read_BD_Addr : Read BD Addr\n",
      "HCI_Cmd_Reset : Reset\n",
      "HCI_Cmd_Set_Event_Filter : Set Event Filter\n",
      "HCI_Cmd_Set_Event_Mask : Set Event Mask\n",
      "HCI_Cmd_Write_Extended_Inquiry_Response : Write Extended Inquiry Response\n",
      "HCI_Cmd_Write_Local_Name : None\n",
      "HCI_Command_Hdr : HCI Command header\n",
      "HCI_Event_Command_Complete : Command Complete\n",
      "HCI_Event_Command_Status : Command Status\n",
      "HCI_Event_Disconnection_Complete : Disconnection Complete\n",
      "HCI_Event_Encryption_Change : Encryption Change\n",
      "HCI_Event_Hdr : HCI Event header\n",
      "HCI_Event_LE_Meta : LE Meta\n",
      "HCI_Event_Number_Of_Completed_Packets : Number Of Completed Packets\n",
      "HCI_Hdr    : HCI header\n",
      "HCI_LE_Meta_Advertising_Report : Advertising Report\n",
      "HCI_LE_Meta_Advertising_Reports : Advertising Reports\n",
      "HCI_LE_Meta_Connection_Complete : Connection Complete\n",
      "HCI_LE_Meta_Connection_Update_Complete : Connection Update Complete\n",
      "HCI_LE_Meta_Long_Term_Key_Request : Long Term Key Request\n",
      "HCI_PHDR_Hdr : HCI PHDR transport layer\n",
      "HDLC       : None\n",
      "HSRP       : HSRP\n",
      "HSRPmd5    : HSRP MD5 Authentication\n",
      "ICMP       : ICMP\n",
      "ICMPerror  : ICMP in ICMP\n",
      "ICMPv6DestUnreach : ICMPv6 Destination Unreachable\n",
      "ICMPv6EchoReply : ICMPv6 Echo Reply\n",
      "ICMPv6EchoRequest : ICMPv6 Echo Request\n",
      "ICMPv6HAADReply : ICMPv6 Home Agent Address Discovery Reply\n",
      "ICMPv6HAADRequest : ICMPv6 Home Agent Address Discovery Request\n",
      "ICMPv6MLDMultAddrRec : ICMPv6 MLDv2 - Multicast Address Record\n",
      "ICMPv6MLDone : MLD - Multicast Listener Done\n",
      "ICMPv6MLQuery : MLD - Multicast Listener Query\n",
      "ICMPv6MLQuery2 : MLDv2 - Multicast Listener Query\n",
      "ICMPv6MLReport : MLD - Multicast Listener Report\n",
      "ICMPv6MLReport2 : MLDv2 - Multicast Listener Report\n",
      "ICMPv6MPAdv : ICMPv6 Mobile Prefix Advertisement\n",
      "ICMPv6MPSol : ICMPv6 Mobile Prefix Solicitation\n",
      "ICMPv6MRD_Advertisement : ICMPv6 Multicast Router Discovery Advertisement\n",
      "ICMPv6MRD_Solicitation : ICMPv6 Multicast Router Discovery Solicitation\n",
      "ICMPv6MRD_Termination : ICMPv6 Multicast Router Discovery Termination\n",
      "ICMPv6NDOptAdvInterval : ICMPv6 Neighbor Discovery - Interval Advertisement\n",
      "ICMPv6NDOptDNSSL : ICMPv6 Neighbor Discovery Option - DNS Search List Option\n",
      "ICMPv6NDOptDstLLAddr : ICMPv6 Neighbor Discovery Option - Destination Link-Layer Address\n",
      "ICMPv6NDOptEFA : ICMPv6 Neighbor Discovery Option - Expanded Flags Option\n",
      "ICMPv6NDOptHAInfo : ICMPv6 Neighbor Discovery - Home Agent Information\n",
      "ICMPv6NDOptIPAddr : ICMPv6 Neighbor Discovery - IP Address Option (FH for MIPv6)\n",
      "ICMPv6NDOptLLA : ICMPv6 Neighbor Discovery - Link-Layer Address (LLA) Option (FH for MIPv6)\n",
      "ICMPv6NDOptMAP : ICMPv6 Neighbor Discovery - MAP Option\n",
      "ICMPv6NDOptMTU : ICMPv6 Neighbor Discovery Option - MTU\n",
      "ICMPv6NDOptNewRtrPrefix : ICMPv6 Neighbor Discovery - New Router Prefix Information Option (FH for MIPv6)\n",
      "ICMPv6NDOptPrefixInfo : ICMPv6 Neighbor Discovery Option - Prefix Information\n",
      "ICMPv6NDOptRDNSS : ICMPv6 Neighbor Discovery Option - Recursive DNS Server Option\n",
      "ICMPv6NDOptRedirectedHdr : ICMPv6 Neighbor Discovery Option - Redirected Header\n",
      "ICMPv6NDOptRouteInfo : ICMPv6 Neighbor Discovery Option - Route Information Option\n",
      "ICMPv6NDOptShortcutLimit : ICMPv6 Neighbor Discovery Option - NBMA Shortcut Limit\n",
      "ICMPv6NDOptSrcAddrList : ICMPv6 Inverse Neighbor Discovery Option - Source Address List\n",
      "ICMPv6NDOptSrcLLAddr : ICMPv6 Neighbor Discovery Option - Source Link-Layer Address\n",
      "ICMPv6NDOptTgtAddrList : ICMPv6 Inverse Neighbor Discovery Option - Target Address List\n",
      "ICMPv6NDOptUnknown : ICMPv6 Neighbor Discovery Option - Scapy Unimplemented\n",
      "ICMPv6ND_INDAdv : ICMPv6 Inverse Neighbor Discovery Advertisement\n",
      "ICMPv6ND_INDSol : ICMPv6 Inverse Neighbor Discovery Solicitation\n",
      "ICMPv6ND_NA : ICMPv6 Neighbor Discovery - Neighbor Advertisement\n",
      "ICMPv6ND_NS : ICMPv6 Neighbor Discovery - Neighbor Solicitation\n",
      "ICMPv6ND_RA : ICMPv6 Neighbor Discovery - Router Advertisement\n",
      "ICMPv6ND_RS : ICMPv6 Neighbor Discovery - Router Solicitation\n",
      "ICMPv6ND_Redirect : ICMPv6 Neighbor Discovery - Redirect\n",
      "ICMPv6NIQueryIPv4 : ICMPv6 Node Information Query - IPv4 Address Query\n",
      "ICMPv6NIQueryIPv6 : ICMPv6 Node Information Query - IPv6 Address Query\n",
      "ICMPv6NIQueryNOOP : ICMPv6 Node Information Query - NOOP Query\n",
      "ICMPv6NIQueryName : ICMPv6 Node Information Query - IPv6 Name Query\n",
      "ICMPv6NIReplyIPv4 : ICMPv6 Node Information Reply - IPv4 addresses\n",
      "ICMPv6NIReplyIPv6 : ICMPv6 Node Information Reply - IPv6 addresses\n",
      "ICMPv6NIReplyNOOP : ICMPv6 Node Information Reply - NOOP Reply\n",
      "ICMPv6NIReplyName : ICMPv6 Node Information Reply - Node Names\n",
      "ICMPv6NIReplyRefuse : ICMPv6 Node Information Reply - Responder refuses to supply answer\n",
      "ICMPv6NIReplyUnknown : ICMPv6 Node Information Reply - Qtype unknown to the responder\n",
      "ICMPv6PacketTooBig : ICMPv6 Packet Too Big\n",
      "ICMPv6ParamProblem : ICMPv6 Parameter Problem\n",
      "ICMPv6TimeExceeded : ICMPv6 Time Exceeded\n",
      "ICMPv6Unknown : Scapy6 ICMPv6 fallback class\n",
      "IP         : IP\n",
      "IPOption   : IP Option\n",
      "IPOption_Address_Extension : IP Option Address Extension\n",
      "IPOption_EOL : IP Option End of Options List\n",
      "IPOption_LSRR : IP Option Loose Source and Record Route\n",
      "IPOption_MTU_Probe : IP Option MTU Probe\n",
      "IPOption_MTU_Reply : IP Option MTU Reply\n",
      "IPOption_NOP : IP Option No Operation\n",
      "IPOption_RR : IP Option Record Route\n",
      "IPOption_Router_Alert : IP Option Router Alert\n",
      "IPOption_SDBM : IP Option Selective Directed Broadcast Mode\n",
      "IPOption_SSRR : IP Option Strict Source and Record Route\n",
      "IPOption_Security : IP Option Security\n",
      "IPOption_Stream_Id : IP Option Stream ID\n",
      "IPOption_Traceroute : IP Option Traceroute\n",
      "IPerror    : IP in ICMP\n",
      "IPerror6   : IPv6 in ICMPv6\n",
      "IPv6       : IPv6\n",
      "IPv6ExtHdrDestOpt : IPv6 Extension Header - Destination Options Header\n",
      "IPv6ExtHdrFragment : IPv6 Extension Header - Fragmentation header\n",
      "IPv6ExtHdrHopByHop : IPv6 Extension Header - Hop-by-Hop Options Header\n",
      "IPv6ExtHdrRouting : IPv6 Option Header Routing\n",
      "IPv6ExtHdrSegmentRouting : IPv6 Option Header Segment Routing\n",
      "IPv6ExtHdrSegmentRoutingTLV : IPv6 Option Header Segment Routing - Generic TLV\n",
      "IPv6ExtHdrSegmentRoutingTLVEgressNode : IPv6 Option Header Segment Routing - Egress Node TLV\n",
      "IPv6ExtHdrSegmentRoutingTLVIngressNode : IPv6 Option Header Segment Routing - Ingress Node TLV\n",
      "IPv6ExtHdrSegmentRoutingTLVPadding : IPv6 Option Header Segment Routing - Padding TLV\n",
      "ISAKMP     : ISAKMP\n",
      "ISAKMP_class : None\n",
      "ISAKMP_payload : ISAKMP payload\n",
      "ISAKMP_payload_Hash : ISAKMP Hash\n",
      "ISAKMP_payload_ID : ISAKMP Identification\n",
      "ISAKMP_payload_KE : ISAKMP Key Exchange\n",
      "ISAKMP_payload_Nonce : ISAKMP Nonce\n",
      "ISAKMP_payload_Proposal : IKE proposal\n",
      "ISAKMP_payload_SA : ISAKMP SA\n",
      "ISAKMP_payload_Transform : IKE Transform\n",
      "ISAKMP_payload_VendorID : ISAKMP Vendor ID\n",
      "InheritOriginDNSStrPacket : None\n",
      "IrLAPCommand : IrDA Link Access Protocol Command\n",
      "IrLAPHead  : IrDA Link Access Protocol Header\n",
      "IrLMP      : IrDA Link Management Protocol\n",
      "Jumbo      : Jumbo Payload\n",
      "L2CAP_CmdHdr : L2CAP command header\n",
      "L2CAP_CmdRej : L2CAP Command Rej\n",
      "L2CAP_ConfReq : L2CAP Conf Req\n",
      "L2CAP_ConfResp : L2CAP Conf Resp\n",
      "L2CAP_ConnReq : L2CAP Conn Req\n",
      "L2CAP_ConnResp : L2CAP Conn Resp\n",
      "L2CAP_Connection_Parameter_Update_Request : L2CAP Connection Parameter Update Request\n",
      "L2CAP_Connection_Parameter_Update_Response : L2CAP Connection Parameter Update Response\n",
      "L2CAP_DisconnReq : L2CAP Disconn Req\n",
      "L2CAP_DisconnResp : L2CAP Disconn Resp\n",
      "L2CAP_Hdr  : L2CAP header\n",
      "L2CAP_InfoReq : L2CAP Info Req\n",
      "L2CAP_InfoResp : L2CAP Info Resp\n",
      "L2TP       : L2TP\n",
      "LEAP       : Cisco LEAP\n",
      "LLC        : LLC\n",
      "LLMNRQuery : Link Local Multicast Node Resolution - Query\n",
      "LLMNRResponse : Link Local Multicast Node Resolution - Response\n",
      "LLTD       : LLTD\n",
      "LLTDAttribute : LLTD Attribute\n",
      "LLTDAttribute80211MaxRate : LLTD Attribute - 802.11 Max Rate\n",
      "LLTDAttribute80211PhysicalMedium : LLTD Attribute - 802.11 Physical Medium\n",
      "LLTDAttributeCharacteristics : LLTD Attribute - Characteristics\n",
      "LLTDAttributeDeviceUUID : LLTD Attribute - Device UUID\n",
      "LLTDAttributeEOP : LLTD Attribute - End Of Property\n",
      "LLTDAttributeHostID : LLTD Attribute - Host ID\n",
      "LLTDAttributeIPv4Address : LLTD Attribute - IPv4 Address\n",
      "LLTDAttributeIPv6Address : LLTD Attribute - IPv6 Address\n",
      "LLTDAttributeLargeTLV : LLTD Attribute - Large TLV\n",
      "LLTDAttributeLinkSpeed : LLTD Attribute - Link Speed\n",
      "LLTDAttributeMachineName : LLTD Attribute - Machine Name\n",
      "LLTDAttributePerformanceCounterFrequency : LLTD Attribute - Performance Counter Frequency\n",
      "LLTDAttributePhysicalMedium : LLTD Attribute - Physical Medium\n",
      "LLTDAttributeQOSCharacteristics : LLTD Attribute - QoS Characteristics\n",
      "LLTDAttributeSeesList : LLTD Attribute - Sees List Working Set\n",
      "LLTDDiscover : LLTD - Discover\n",
      "LLTDEmit   : LLTD - Emit\n",
      "LLTDEmiteeDesc : LLTD - Emitee Desc\n",
      "LLTDHello  : LLTD - Hello\n",
      "LLTDQueryLargeTlv : LLTD - Query Large Tlv\n",
      "LLTDQueryLargeTlvResp : LLTD - Query Large Tlv Response\n",
      "LLTDQueryResp : LLTD - Query Response\n",
      "LLTDRecveeDesc : LLTD - Recvee Desc\n",
      "LinkStatusEntry : ZigBee Link Status Entry\n",
      "LoWPANFragmentationFirst : 6LoWPAN First Fragmentation Packet\n",
      "LoWPANFragmentationSubsequent : 6LoWPAN Subsequent Fragmentation Packet\n",
      "LoWPANMesh : 6LoWPAN Mesh Packet\n",
      "LoWPANUncompressedIPv6 : 6LoWPAN Uncompressed IPv6\n",
      "LoWPAN_HC1 : LoWPAN_HC1 Compressed IPv6 (Not supported)\n",
      "LoWPAN_IPHC : LoWPAN IP Header Compression Packet\n",
      "Loopback   : Loopback\n",
      "MACsecSCI  : SCI\n",
      "MGCP       : MGCP\n",
      "MIP6MH_BA  : IPv6 Mobility Header - Binding ACK\n",
      "MIP6MH_BE  : IPv6 Mobility Header - Binding Error\n",
      "MIP6MH_BRR : IPv6 Mobility Header - Binding Refresh Request\n",
      "MIP6MH_BU  : IPv6 Mobility Header - Binding Update\n",
      "MIP6MH_CoT : IPv6 Mobility Header - Care-of Test\n",
      "MIP6MH_CoTI : IPv6 Mobility Header - Care-of Test Init\n",
      "MIP6MH_Generic : IPv6 Mobility Header - Generic Message\n",
      "MIP6MH_HoT : IPv6 Mobility Header - Home Test\n",
      "MIP6MH_HoTI : IPv6 Mobility Header - Home Test Init\n",
      "MIP6OptAltCoA : MIPv6 Option - Alternate Care-of Address\n",
      "MIP6OptBRAdvice : Mobile IPv6 Option - Binding Refresh Advice\n",
      "MIP6OptBindingAuthData : MIPv6 Option - Binding Authorization Data\n",
      "MIP6OptCGAParams : MIPv6 option - CGA Parameters\n",
      "MIP6OptCGAParamsReq : MIPv6 option - CGA Parameters Request\n",
      "MIP6OptCareOfTest : MIPv6 option - Care-of Test\n",
      "MIP6OptCareOfTestInit : MIPv6 option - Care-of Test Init\n",
      "MIP6OptHomeKeygenToken : MIPv6 option - Home Keygen Token\n",
      "MIP6OptLLAddr : MIPv6 Option - Link-Layer Address (MH-LLA)\n",
      "MIP6OptMNID : MIPv6 Option - Mobile Node Identifier\n",
      "MIP6OptMobNetPrefix : NEMO Option - Mobile Network Prefix\n",
      "MIP6OptMsgAuth : MIPv6 Option - Mobility Message Authentication\n",
      "MIP6OptNonceIndices : MIPv6 Option - Nonce Indices\n",
      "MIP6OptReplayProtection : MIPv6 option - Replay Protection\n",
      "MIP6OptSignature : MIPv6 option - Signature\n",
      "MIP6OptUnknown : Scapy6 - Unknown Mobility Option\n",
      "MKABasicParamSet : Basic Parameter Set\n",
      "MKADistributedCAKParamSet : Distributed CAK parameter set\n",
      "MKADistributedSAKParamSet : Distributed SAK parameter set\n",
      "MKAICVSet  : ICV\n",
      "MKALivePeerListParamSet : Live Peer List Parameter Set\n",
      "MKAPDU     : MKPDU\n",
      "MKAParamSet : None\n",
      "MKAPeerListTuple : Peer List Tuple\n",
      "MKAPotentialPeerListParamSet : Potential Peer List Parameter Set\n",
      "MKASAKUseParamSet : SAK Use Parameter Set\n",
      "MobileIP   : Mobile IP (RFC3344)\n",
      "MobileIPRRP : Mobile IP Registration Reply (RFC3344)\n",
      "MobileIPRRQ : Mobile IP Registration Request (RFC3344)\n",
      "MobileIPTunnelData : Mobile IP Tunnel Data Message (RFC3519)\n",
      "NBNSNodeStatusResponse : NBNS Node Status Response\n",
      "NBNSNodeStatusResponseEnd : NBNS Node Status Response\n",
      "NBNSNodeStatusResponseService : NBNS Node Status Response Service\n",
      "NBNSQueryRequest : NBNS query request\n",
      "NBNSQueryResponse : NBNS query response\n",
      "NBNSQueryResponseNegative : NBNS query response (negative)\n",
      "NBNSRequest : NBNS request\n",
      "NBNSWackResponse : NBNS Wait for Acknowledgement Response\n",
      "NBTDatagram : NBT Datagram Packet\n",
      "NBTSession : NBT Session Packet\n",
      "NTP        : None\n",
      "NTPAuthenticator : Authenticator\n",
      "NTPClockStatusPacket : clock status\n",
      "NTPConfPeer : conf_peer\n",
      "NTPConfRestrict : conf_restrict\n",
      "NTPConfTrap : conf_trap\n",
      "NTPConfUnpeer : conf_unpeer\n",
      "NTPControl : Control message\n",
      "NTPErrorStatusPacket : error status\n",
      "NTPExtension : extension\n",
      "NTPExtensions : NTPv4 extensions\n",
      "NTPHeader  : NTPHeader\n",
      "NTPInfoAuth : info_auth\n",
      "NTPInfoControl : info_control\n",
      "NTPInfoIOStats : info_io_stats\n",
      "NTPInfoIfStatsIPv4 : info_if_stats\n",
      "NTPInfoIfStatsIPv6 : info_if_stats\n",
      "NTPInfoKernel : info_kernel\n",
      "NTPInfoLoop : info_loop\n",
      "NTPInfoMemStats : info_mem_stats\n",
      "NTPInfoMonitor1 : InfoMonitor1\n",
      "NTPInfoPeer : info_peer\n",
      "NTPInfoPeerList : info_peer_list\n",
      "NTPInfoPeerStats : info_peer_stats\n",
      "NTPInfoPeerSummary : info_peer_summary\n",
      "NTPInfoSys : info_sys\n",
      "NTPInfoSysStats : info_sys_stats\n",
      "NTPInfoTimerStats : info_timer_stats\n",
      "NTPPeerStatusDataPacket : data / peer status\n",
      "NTPPeerStatusPacket : peer status\n",
      "NTPPrivate : Private (mode 7)\n",
      "NTPPrivatePktTail : req_pkt_tail\n",
      "NTPPrivateReqPacket : request data\n",
      "NTPStatusPacket : status\n",
      "NTPSystemStatusPacket : system status\n",
      "NetBIOS_DS : NetBIOS datagram service\n",
      "NetflowDataflowsetV9 : Netflow DataFlowSet V9/10\n",
      "NetflowFlowsetV9 : Netflow FlowSet V9/10\n",
      "NetflowHeader : Netflow Header\n",
      "NetflowHeaderV1 : Netflow Header v1\n",
      "NetflowHeaderV10 : IPFix (Netflow V10) Header\n",
      "NetflowHeaderV5 : Netflow Header v5\n",
      "NetflowHeaderV9 : Netflow Header V9\n",
      "NetflowOptionsFlowset10 : Netflow V10 (IPFix) Options Template FlowSet\n",
      "NetflowOptionsFlowsetOptionV9 : Netflow Options Template FlowSet V9/10 - Option\n",
      "NetflowOptionsFlowsetScopeV9 : Netflow Options Template FlowSet V9/10 - Scope\n",
      "NetflowOptionsFlowsetV9 : Netflow Options Template FlowSet V9\n",
      "NetflowOptionsRecordOptionV9 : Netflow Options Template Record V9/10 - Option\n",
      "NetflowOptionsRecordScopeV9 : Netflow Options Template Record V9/10 - Scope\n",
      "NetflowRecordV1 : Netflow Record v1\n",
      "NetflowRecordV5 : Netflow Record v5\n",
      "NetflowRecordV9 : Netflow DataFlowset Record V9/10\n",
      "NetflowTemplateFieldV9 : Netflow Flowset Template Field V9/10\n",
      "NetflowTemplateV9 : Netflow Flowset Template V9/10\n",
      "NoPayload  : None\n",
      "OCSP_ByKey : None\n",
      "OCSP_ByName : None\n",
      "OCSP_CertID : None\n",
      "OCSP_CertStatus : None\n",
      "OCSP_GoodInfo : None\n",
      "OCSP_ResponderID : None\n",
      "OCSP_Response : None\n",
      "OCSP_ResponseBytes : None\n",
      "OCSP_ResponseData : None\n",
      "OCSP_RevokedInfo : None\n",
      "OCSP_SingleResponse : None\n",
      "OCSP_UnknownInfo : None\n",
      "PMKIDListPacket : PMKIDs\n",
      "PPI        : Per-Packet Information header (PPI)\n",
      "PPI_Element : PPI Element\n",
      "PPI_Hdr    : PPI Header\n",
      "PPP        : PPP Link Layer\n",
      "PPP_       : PPP Link Layer\n",
      "PPP_CHAP   : PPP Challenge Handshake Authentication Protocol\n",
      "PPP_CHAP_ChallengeResponse : PPP Challenge Handshake Authentication Protocol\n",
      "PPP_ECP    : None\n",
      "PPP_ECP_Option : PPP ECP Option\n",
      "PPP_ECP_Option_OUI : PPP ECP Option\n",
      "PPP_IPCP   : None\n",
      "PPP_IPCP_Option : PPP IPCP Option\n",
      "PPP_IPCP_Option_DNS1 : PPP IPCP Option: DNS1 Address\n",
      "PPP_IPCP_Option_DNS2 : PPP IPCP Option: DNS2 Address\n",
      "PPP_IPCP_Option_IPAddress : PPP IPCP Option: IP Address\n",
      "PPP_IPCP_Option_NBNS1 : PPP IPCP Option: NBNS1 Address\n",
      "PPP_IPCP_Option_NBNS2 : PPP IPCP Option: NBNS2 Address\n",
      "PPP_LCP    : PPP Link Control Protocol\n",
      "PPP_LCP_ACCM_Option : PPP LCP Option\n",
      "PPP_LCP_Auth_Protocol_Option : PPP LCP Option\n",
      "PPP_LCP_Callback_Option : PPP LCP Option\n",
      "PPP_LCP_Code_Reject : PPP Link Control Protocol\n",
      "PPP_LCP_Configure : PPP Link Control Protocol\n",
      "PPP_LCP_Discard_Request : PPP Link Control Protocol\n",
      "PPP_LCP_Echo : PPP Link Control Protocol\n",
      "PPP_LCP_MRU_Option : PPP LCP Option\n",
      "PPP_LCP_Magic_Number_Option : PPP LCP Option\n",
      "PPP_LCP_Option : PPP LCP Option\n",
      "PPP_LCP_Protocol_Reject : PPP Link Control Protocol\n",
      "PPP_LCP_Quality_Protocol_Option : PPP LCP Option\n",
      "PPP_LCP_Terminate : PPP Link Control Protocol\n",
      "PPP_PAP    : PPP Password Authentication Protocol\n",
      "PPP_PAP_Request : PPP Password Authentication Protocol\n",
      "PPP_PAP_Response : PPP Password Authentication Protocol\n",
      "PPPoE      : PPP over Ethernet\n",
      "PPPoED     : PPP over Ethernet Discovery\n",
      "PPPoED_Tags : PPPoE Tag List\n",
      "PPPoETag   : PPPoE Tag\n",
      "PPTP       : PPTP\n",
      "PPTPCallClearRequest : PPTP Call Clear Request\n",
      "PPTPCallDisconnectNotify : PPTP Call Disconnect Notify\n",
      "PPTPEchoReply : PPTP Echo Reply\n",
      "PPTPEchoRequest : PPTP Echo Request\n",
      "PPTPIncomingCallConnected : PPTP Incoming Call Connected\n",
      "PPTPIncomingCallReply : PPTP Incoming Call Reply\n",
      "PPTPIncomingCallRequest : PPTP Incoming Call Request\n",
      "PPTPOutgoingCallReply : PPTP Outgoing Call Reply\n",
      "PPTPOutgoingCallRequest : PPTP Outgoing Call Request\n",
      "PPTPSetLinkInfo : PPTP Set Link Info\n",
      "PPTPStartControlConnectionReply : PPTP Start Control Connection Reply\n",
      "PPTPStartControlConnectionRequest : PPTP Start Control Connection Request\n",
      "PPTPStopControlConnectionReply : PPTP Stop Control Connection Reply\n",
      "PPTPStopControlConnectionRequest : PPTP Stop Control Connection Request\n",
      "PPTPWANErrorNotify : PPTP WAN Error Notify\n",
      "Packet     : None\n",
      "Pad1       : Pad1\n",
      "PadN       : PadN\n",
      "Padding    : Padding\n",
      "PrismHeader : Prism header\n",
      "PseudoIPv6 : Pseudo IPv6 Header\n",
      "RIP        : RIP header\n",
      "RIPAuth    : RIP authentication\n",
      "RIPEntry   : RIP entry\n",
      "RSAOtherPrimeInfo : None\n",
      "RSAPrivateKey : None\n",
      "RSAPrivateKey_OpenSSL : None\n",
      "RSAPublicKey : None\n",
      "RSNCipherSuite : Cipher suite\n",
      "RTP        : RTP\n",
      "RTPExtension : RTP extension\n",
      "RadioTap   : RadioTap dummy\n",
      "RadioTapExtendedPresenceMask : RadioTap Extended presence mask\n",
      "Radius     : RADIUS\n",
      "RadiusAttr_ARAP_Security : Radius Attribute\n",
      "RadiusAttr_Acct_Delay_Time : Radius Attribute\n",
      "RadiusAttr_Acct_Input_Gigawords : Radius Attribute\n",
      "RadiusAttr_Acct_Input_Octets : Radius Attribute\n",
      "RadiusAttr_Acct_Input_Packets : Radius Attribute\n",
      "RadiusAttr_Acct_Interim_Interval : Radius Attribute\n",
      "RadiusAttr_Acct_Link_Count : Radius Attribute\n",
      "RadiusAttr_Acct_Output_Gigawords : Radius Attribute\n",
      "RadiusAttr_Acct_Output_Octets : Radius Attribute\n",
      "RadiusAttr_Acct_Output_Packets : Radius Attribute\n",
      "RadiusAttr_Acct_Session_Time : Radius Attribute\n",
      "RadiusAttr_Acct_Tunnel_Packets_Lost : Radius Attribute\n",
      "RadiusAttr_EAP_Message : EAP-Message\n",
      "RadiusAttr_Egress_VLANID : Radius Attribute\n",
      "RadiusAttr_Framed_AppleTalk_Link : Radius Attribute\n",
      "RadiusAttr_Framed_AppleTalk_Network : Radius Attribute\n",
      "RadiusAttr_Framed_IPX_Network : Radius Attribute\n",
      "RadiusAttr_Framed_IP_Address : Radius Attribute\n",
      "RadiusAttr_Framed_IP_Netmask : Radius Attribute\n",
      "RadiusAttr_Framed_MTU : Radius Attribute\n",
      "RadiusAttr_Framed_Protocol : Radius Attribute\n",
      "RadiusAttr_Idle_Timeout : Radius Attribute\n",
      "RadiusAttr_Login_IP_Host : Radius Attribute\n",
      "RadiusAttr_Login_TCP_Port : Radius Attribute\n",
      "RadiusAttr_Management_Privilege_Level : Radius Attribute\n",
      "RadiusAttr_Message_Authenticator : Radius Attribute\n",
      "RadiusAttr_Mobility_Domain_Id : Radius Attribute\n",
      "RadiusAttr_NAS_IP_Address : Radius Attribute\n",
      "RadiusAttr_NAS_Port : Radius Attribute\n",
      "RadiusAttr_NAS_Port_Type : Radius Attribute\n",
      "RadiusAttr_PMIP6_Home_DHCP4_Server_Address : Radius Attribute\n",
      "RadiusAttr_PMIP6_Home_IPv4_Gateway : Radius Attribute\n",
      "RadiusAttr_PMIP6_Home_LMA_IPv4_Address : Radius Attribute\n",
      "RadiusAttr_PMIP6_Visited_DHCP4_Server_Address : Radius Attribute\n",
      "RadiusAttr_PMIP6_Visited_IPv4_Gateway : Radius Attribute\n",
      "RadiusAttr_PMIP6_Visited_LMA_IPv4_Address : Radius Attribute\n",
      "RadiusAttr_Password_Retry : Radius Attribute\n",
      "RadiusAttr_Port_Limit : Radius Attribute\n",
      "RadiusAttr_Preauth_Timeout : Radius Attribute\n",
      "RadiusAttr_Service_Type : Radius Attribute\n",
      "RadiusAttr_Session_Timeout : Radius Attribute\n",
      "RadiusAttr_State : Radius Attribute\n",
      "RadiusAttr_Tunnel_Preference : Radius Attribute\n",
      "RadiusAttr_Vendor_Specific : Vendor-Specific\n",
      "RadiusAttr_WLAN_AKM_Suite : Radius Attribute\n",
      "RadiusAttr_WLAN_Group_Cipher : Radius Attribute\n",
      "RadiusAttr_WLAN_Group_Mgmt_Cipher : Radius Attribute\n",
      "RadiusAttr_WLAN_Pairwise_Cipher : Radius Attribute\n",
      "RadiusAttr_WLAN_RF_Band : Radius Attribute\n",
      "RadiusAttr_WLAN_Reason_Code : Radius Attribute\n",
      "RadiusAttr_WLAN_Venue_Info : Radius Attribute\n",
      "RadiusAttribute : Radius Attribute\n",
      "Raw        : Raw\n",
      "RouterAlert : Router Alert\n",
      "SCTP       : None\n",
      "SCTPChunkAbort : None\n",
      "SCTPChunkAddressConf : None\n",
      "SCTPChunkAddressConfAck : None\n",
      "SCTPChunkAuthentication : None\n",
      "SCTPChunkCookieAck : None\n",
      "SCTPChunkCookieEcho : None\n",
      "SCTPChunkData : None\n",
      "SCTPChunkError : None\n",
      "SCTPChunkHeartbeatAck : None\n",
      "SCTPChunkHeartbeatReq : None\n",
      "SCTPChunkInit : None\n",
      "SCTPChunkInitAck : None\n",
      "SCTPChunkParamAdaptationLayer : None\n",
      "SCTPChunkParamAddIPAddr : None\n",
      "SCTPChunkParamChunkList : None\n",
      "SCTPChunkParamCookiePreservative : None\n",
      "SCTPChunkParamDelIPAddr : None\n",
      "SCTPChunkParamECNCapable : None\n",
      "SCTPChunkParamErrorIndication : None\n",
      "SCTPChunkParamFwdTSN : None\n",
      "SCTPChunkParamHearbeatInfo : None\n",
      "SCTPChunkParamHostname : None\n",
      "SCTPChunkParamIPv4Addr : None\n",
      "SCTPChunkParamIPv6Addr : None\n",
      "SCTPChunkParamRandom : None\n",
      "SCTPChunkParamRequestedHMACFunctions : None\n",
      "SCTPChunkParamSetPrimaryAddr : None\n",
      "SCTPChunkParamStateCookie : None\n",
      "SCTPChunkParamSuccessIndication : None\n",
      "SCTPChunkParamSupportedAddrTypes : None\n",
      "SCTPChunkParamSupportedExtensions : None\n",
      "SCTPChunkParamUnrocognizedParam : None\n",
      "SCTPChunkSACK : None\n",
      "SCTPChunkShutdown : None\n",
      "SCTPChunkShutdownAck : None\n",
      "SCTPChunkShutdownComplete : None\n",
      "SMBMailSlot : None\n",
      "SMBNegociate_Protocol_Request_Header : SMBNegociate Protocol Request Header\n",
      "SMBNegociate_Protocol_Request_Tail : SMB Negotiate Protocol Request Tail\n",
      "SMBNegociate_Protocol_Response_Advanced_Security : SMBNegociate Protocol Response Advanced Security\n",
      "SMBNegociate_Protocol_Response_No_Security : SMBNegociate Protocol Response No Security\n",
      "SMBNegociate_Protocol_Response_No_Security_No_Key : None\n",
      "SMBNetlogon_Protocol_Response_Header : SMBNetlogon Protocol Response Header\n",
      "SMBNetlogon_Protocol_Response_Tail_LM20 : SMB Netlogon Protocol Response Tail LM20\n",
      "SMBNetlogon_Protocol_Response_Tail_SAM : SMB Netlogon Protocol Response Tail SAM\n",
      "SMBSession_Setup_AndX_Request : Session Setup AndX Request\n",
      "SMBSession_Setup_AndX_Response : Session Setup AndX Response\n",
      "SM_Confirm : Pairing Confirm\n",
      "SM_Encryption_Information : Encryption Information\n",
      "SM_Failed  : Pairing Failed\n",
      "SM_Hdr     : SM header\n",
      "SM_Identity_Address_Information : Identity Address Information\n",
      "SM_Identity_Information : Identity Information\n",
      "SM_Master_Identification : Master Identification\n",
      "SM_Pairing_Request : Pairing Request\n",
      "SM_Pairing_Response : Pairing Response\n",
      "SM_Random  : Pairing Random\n",
      "SM_Signing_Information : Signing Information\n",
      "SNAP       : SNAP\n",
      "SNMP       : None\n",
      "SNMPbulk   : None\n",
      "SNMPget    : None\n",
      "SNMPinform : None\n",
      "SNMPnext   : None\n",
      "SNMPresponse : None\n",
      "SNMPset    : None\n",
      "SNMPtrapv1 : None\n",
      "SNMPtrapv2 : None\n",
      "SNMPvarbind : None\n",
      "STP        : Spanning Tree Protocol\n",
      "SixLoWPAN  : SixLoWPAN(Packet)\n",
      "Skinny     : Skinny\n",
      "TCP        : TCP\n",
      "TCPerror   : TCP in ICMP\n",
      "TFTP       : TFTP opcode\n",
      "TFTP_ACK   : TFTP Ack\n",
      "TFTP_DATA  : TFTP Data\n",
      "TFTP_ERROR : TFTP Error\n",
      "TFTP_OACK  : TFTP Option Ack\n",
      "TFTP_Option : None\n",
      "TFTP_Options : None\n",
      "TFTP_RRQ   : TFTP Read Request\n",
      "TFTP_WRQ   : TFTP Write Request\n",
      "UDP        : UDP\n",
      "UDPerror   : UDP in ICMP\n",
      "USER_CLASS_DATA : user class data\n",
      "VENDOR_CLASS_DATA : vendor class data\n",
      "VENDOR_SPECIFIC_OPTION : vendor specific option data\n",
      "VRRP       : None\n",
      "VRRPv3     : None\n",
      "VXLAN      : VXLAN\n",
      "X509_AccessDescription : None\n",
      "X509_AlgorithmIdentifier : None\n",
      "X509_Attribute : None\n",
      "X509_AttributeTypeAndValue : None\n",
      "X509_AttributeValue : None\n",
      "X509_CRL   : None\n",
      "X509_Cert  : None\n",
      "X509_DNSName : None\n",
      "X509_DirectoryName : None\n",
      "X509_EDIPartyName : None\n",
      "X509_ExtAuthInfoAccess : None\n",
      "X509_ExtAuthorityKeyIdentifier : None\n",
      "X509_ExtBasicConstraints : None\n",
      "X509_ExtCRLDistributionPoints : None\n",
      "X509_ExtCRLNumber : None\n",
      "X509_ExtCertificateIssuer : None\n",
      "X509_ExtCertificatePolicies : None\n",
      "X509_ExtComment : None\n",
      "X509_ExtDefault : None\n",
      "X509_ExtDeltaCRLIndicator : None\n",
      "X509_ExtDistributionPoint : None\n",
      "X509_ExtDistributionPointName : None\n",
      "X509_ExtExtendedKeyUsage : None\n",
      "X509_ExtFreshestCRL : None\n",
      "X509_ExtFullName : None\n",
      "X509_ExtGeneralSubtree : None\n",
      "X509_ExtInhibitAnyPolicy : None\n",
      "X509_ExtInvalidityDate : None\n",
      "X509_ExtIssuerAltName : None\n",
      "X509_ExtIssuingDistributionPoint : None\n",
      "X509_ExtKeyUsage : None\n",
      "X509_ExtNameConstraints : None\n",
      "X509_ExtNameRelativeToCRLIssuer : None\n",
      "X509_ExtNetscapeCertType : None\n",
      "X509_ExtNoticeReference : None\n",
      "X509_ExtPolicyConstraints : None\n",
      "X509_ExtPolicyInformation : None\n",
      "X509_ExtPolicyMappings : None\n",
      "X509_ExtPolicyQualifierInfo : None\n",
      "X509_ExtPrivateKeyUsagePeriod : None\n",
      "X509_ExtQcStatement : None\n",
      "X509_ExtQcStatements : None\n",
      "X509_ExtReasonCode : None\n",
      "X509_ExtSubjInfoAccess : None\n",
      "X509_ExtSubjectAltName : None\n",
      "X509_ExtSubjectDirectoryAttributes : None\n",
      "X509_ExtSubjectKeyIdentifier : None\n",
      "X509_ExtUserNotice : None\n",
      "X509_Extension : None\n",
      "X509_Extensions : None\n",
      "X509_GeneralName : None\n",
      "X509_IPAddress : None\n",
      "X509_OtherName : None\n",
      "X509_PolicyMapping : None\n",
      "X509_RDN   : None\n",
      "X509_RFC822Name : None\n",
      "X509_RegisteredID : None\n",
      "X509_RevokedCertificate : None\n",
      "X509_SubjectPublicKeyInfo : None\n",
      "X509_TBSCertList : None\n",
      "X509_TBSCertificate : None\n",
      "X509_URI   : None\n",
      "X509_Validity : None\n",
      "X509_X400Address : None\n",
      "ZCLGeneralReadAttributes : General Domain: Command Frame Payload: read_attributes\n",
      "ZCLGeneralReadAttributesResponse : General Domain: Command Frame Payload: read_attributes_response\n",
      "ZCLMeteringGetProfile : Metering Cluster: Get Profile Command (Server: Received)\n",
      "ZCLPriceGetCurrentPrice : Price Cluster: Get Current Price Command (Server: Received)\n",
      "ZCLPriceGetScheduledPrices : Price Cluster: Get Scheduled Prices Command (Server: Received)\n",
      "ZCLPricePublishPrice : Price Cluster: Publish Price Command (Server: Generated)\n",
      "ZCLReadAttributeStatusRecord : ZCL Read Attribute Status Record\n",
      "ZEP1       : Zigbee Encapsulation Protocol (V1)\n",
      "ZEP2       : Zigbee Encapsulation Protocol (V2)\n",
      "ZigBeeBeacon : ZigBee Beacon Payload\n",
      "ZigbeeAppCommandPayload : Zigbee Application Layer Command Payload\n",
      "ZigbeeAppDataPayload : Zigbee Application Layer Data Payload (General APS Frame Format)\n",
      "ZigbeeAppDataPayloadStub : Zigbee Application Layer Data Payload for Inter-PAN Transmission\n",
      "ZigbeeClusterLibrary : Zigbee Cluster Library (ZCL) Frame\n",
      "ZigbeeNWK  : Zigbee Network Layer\n",
      "ZigbeeNWKCommandPayload : Zigbee Network Layer Command Payload\n",
      "ZigbeeNWKStub : Zigbee Network Layer for Inter-PAN Transmission\n",
      "ZigbeeSecurityHeader : Zigbee Security Header\n"
     ]
    }
   ],
   "source": [
    "ls()"
   ]
  },
  {
   "cell_type": "code",
   "execution_count": 3,
   "metadata": {},
   "outputs": [
    {
     "name": "stdout",
     "output_type": "stream",
     "text": [
      "version    : BitField (4 bits)                   = (4)\n",
      "ihl        : BitField (4 bits)                   = (None)\n",
      "tos        : XByteField                          = (0)\n",
      "len        : ShortField                          = (None)\n",
      "id         : ShortField                          = (1)\n",
      "flags      : FlagsField (3 bits)                 = (<Flag 0 ()>)\n",
      "frag       : BitField (13 bits)                  = (0)\n",
      "ttl        : ByteField                           = (64)\n",
      "proto      : ByteEnumField                       = (0)\n",
      "chksum     : XShortField                         = (None)\n",
      "src        : SourceIPField                       = (None)\n",
      "dst        : DestIPField                         = (None)\n",
      "options    : PacketListField                     = ([])\n"
     ]
    }
   ],
   "source": [
    "ls(IP)"
   ]
  },
  {
   "cell_type": "markdown",
   "metadata": {},
   "source": [
    "# Forger, visualiser et modifier un packet"
   ]
  },
  {
   "cell_type": "markdown",
   "metadata": {},
   "source": [
    "## Forger et visualiser des paquets"
   ]
  },
  {
   "cell_type": "markdown",
   "metadata": {},
   "source": [
    "Pour créer/forger un paquet, indiquez la pile protocolaire du protocole le plus bas au plus haut en séparant les protocoles par un slash ‘/’. Scapy configurera automatiquement le champs que vous n'indiquez pas avec la configuration par défaut. \n",
    "\n",
    "Le paquet est un objet et on peut peut visualiser le contenu du paquet  avec la méthode show() ou la méthode show2() qui calcule en plus les champs comme la longueur, le checksum du paquet ou la conversion d'un nom en une adresse IP."
   ]
  },
  {
   "cell_type": "code",
   "execution_count": 5,
   "metadata": {},
   "outputs": [
    {
     "data": {
      "text/plain": [
       "'IP / UDP 127.0.0.1:domain > 127.0.0.1:domain'"
      ]
     },
     "execution_count": 5,
     "metadata": {},
     "output_type": "execute_result"
    }
   ],
   "source": [
    "paquet1=IP()/UDP()\n",
    "paquet1.summary()"
   ]
  },
  {
   "cell_type": "code",
   "execution_count": 6,
   "metadata": {},
   "outputs": [
    {
     "name": "stdout",
     "output_type": "stream",
     "text": [
      "###[ IP ]### \n",
      "  version   = 4\n",
      "  ihl       = None\n",
      "  tos       = 0x0\n",
      "  len       = None\n",
      "  id        = 1\n",
      "  flags     = \n",
      "  frag      = 0\n",
      "  ttl       = 64\n",
      "  proto     = udp\n",
      "  chksum    = None\n",
      "  src       = 127.0.0.1\n",
      "  dst       = 127.0.0.1\n",
      "  \\options   \\\n",
      "###[ UDP ]### \n",
      "     sport     = domain\n",
      "     dport     = domain\n",
      "     len       = None\n",
      "     chksum    = None\n",
      "\n"
     ]
    }
   ],
   "source": [
    "paquet1.show()"
   ]
  },
  {
   "cell_type": "code",
   "execution_count": 7,
   "metadata": {},
   "outputs": [
    {
     "name": "stdout",
     "output_type": "stream",
     "text": [
      "###[ IP ]### \n",
      "  version   = 4\n",
      "  ihl       = None\n",
      "  tos       = 0x0\n",
      "  len       = None\n",
      "  id        = 1\n",
      "  flags     = \n",
      "  frag      = 0\n",
      "  ttl       = 64\n",
      "  proto     = udp\n",
      "  chksum    = None\n",
      "  src       = 192.168.1.1\n",
      "  dst       = 192.168.1.254\n",
      "  \\options   \\\n",
      "###[ UDP ]### \n",
      "     sport     = domain\n",
      "     dport     = domain\n",
      "     len       = None\n",
      "     chksum    = None\n",
      "\n",
      "###[ IP ]### \n",
      "  version   = 4\n",
      "  ihl       = 5\n",
      "  tos       = 0x0\n",
      "  len       = 28\n",
      "  id        = 1\n",
      "  flags     = \n",
      "  frag      = 0\n",
      "  ttl       = 64\n",
      "  proto     = udp\n",
      "  chksum    = 0xf680\n",
      "  src       = 192.168.1.1\n",
      "  dst       = 192.168.1.254\n",
      "  \\options   \\\n",
      "###[ UDP ]### \n",
      "     sport     = domain\n",
      "     dport     = domain\n",
      "     len       = 8\n",
      "     chksum    = 0x7b24\n",
      "\n"
     ]
    }
   ],
   "source": [
    "IPs='192.168.1.1'\n",
    "IPd='192.168.1.254'\n",
    "paquet2=IP(src=IPs, dst=IPd)/UDP()\n",
    "paquet2.show()\n",
    "paquet2.show2()"
   ]
  },
  {
   "cell_type": "markdown",
   "metadata": {},
   "source": [
    "Si on spécifie un nom de domaine à la place d'une adresse IP, Scapy fait une requête DNS pour obtenir l'adresse IP correspondante."
   ]
  },
  {
   "cell_type": "code",
   "execution_count": 8,
   "metadata": {},
   "outputs": [
    {
     "name": "stdout",
     "output_type": "stream",
     "text": [
      "###[ Ethernet ]### \n",
      "  dst       = 00:0A:1F:3B:4E:64\n",
      "  src       = 11:22:33:44:55:66\n",
      "  type      = IPv4\n",
      "###[ IP ]### \n",
      "     version   = 4\n",
      "     ihl       = None\n",
      "     tos       = 0x0\n",
      "     len       = None\n",
      "     id        = 1\n",
      "     flags     = \n",
      "     frag      = 0\n",
      "     ttl       = 64\n",
      "     proto     = tcp\n",
      "     chksum    = None\n",
      "     src       = 192.168.1.1\n",
      "     dst       = Net('www.iut-velizy.uvsq.fr')\n",
      "     \\options   \\\n",
      "###[ TCP ]### \n",
      "        sport     = ftp_data\n",
      "        dport     = http\n",
      "        seq       = 0\n",
      "        ack       = 0\n",
      "        dataofs   = None\n",
      "        reserved  = 0\n",
      "        flags     = SA\n",
      "        window    = 8192\n",
      "        chksum    = None\n",
      "        urgptr    = 0\n",
      "        options   = []\n",
      "###[ Raw ]### \n",
      "           load      = 'C est vraiment bien Scapy'\n",
      "\n",
      "###[ Ethernet ]### \n",
      "  dst       = 00:0a:1f:3b:4e:64\n",
      "  src       = 11:22:33:44:55:66\n",
      "  type      = IPv4\n",
      "###[ IP ]### \n",
      "     version   = 4\n",
      "     ihl       = 5\n",
      "     tos       = 0x0\n",
      "     len       = 65\n",
      "     id        = 1\n",
      "     flags     = \n",
      "     frag      = 0\n",
      "     ttl       = 64\n",
      "     proto     = tcp\n",
      "     chksum    = 0xdcd6\n",
      "     src       = 192.168.1.1\n",
      "     dst       = 193.51.27.3\n",
      "     \\options   \\\n",
      "###[ TCP ]### \n",
      "        sport     = ftp_data\n",
      "        dport     = http\n",
      "        seq       = 0\n",
      "        ack       = 0\n",
      "        dataofs   = 5\n",
      "        reserved  = 0\n",
      "        flags     = SA\n",
      "        window    = 8192\n",
      "        chksum    = 0xfb4f\n",
      "        urgptr    = 0\n",
      "        options   = []\n",
      "###[ Raw ]### \n",
      "           load      = 'C est vraiment bien Scapy'\n",
      "\n"
     ]
    }
   ],
   "source": [
    "MACs='11:22:33:44:55:66'\n",
    "MACd='00:0A:1F:3B:4E:64'\n",
    "IPs='192.168.1.1'\n",
    "IPd='www.iut-velizy.uvsq.fr'\n",
    "pkt=Ether(src=MACs, dst=MACd)/IP(src=IPs, dst=IPd)/TCP(flags='SA')/\"C est vraiment bien Scapy\"\n",
    "pkt.show()\n",
    "pkt.show2()"
   ]
  },
  {
   "cell_type": "markdown",
   "metadata": {},
   "source": [
    "## Charger un fichier pcap"
   ]
  },
  {
   "cell_type": "markdown",
   "metadata": {},
   "source": [
    "La fonction rdpcap(\"nom de fichier\") lit un fichier pcap ou pcapng (format Wireshark) et renvoie une liste de paquets (vous devez être dans le répertoire de fichiers). On peut ensuite inspecter les différents paquet de cette capture par exemple avant de travailler en temps réel sur le réseau."
   ]
  },
  {
   "cell_type": "code",
   "execution_count": 4,
   "metadata": {},
   "outputs": [
    {
     "name": "stdout",
     "output_type": "stream",
     "text": [
      "La capture comprend les paquets suivants :\n",
      "\n",
      "Ether / IP / ICMP 192.168.1.48 > 8.8.8.8 echo-request 0 / Raw\n",
      "Ether / IP / ICMP 8.8.8.8 > 192.168.1.48 echo-reply 0 / Raw\n",
      "Ether / IP / ICMP 192.168.1.48 > 8.8.8.8 echo-request 0 / Raw\n",
      "Ether / IP / ICMP 8.8.8.8 > 192.168.1.48 echo-reply 0 / Raw\n"
     ]
    }
   ],
   "source": [
    "paquets=rdpcap(\"Wireshark/Ping_Google.pcapng\")\n",
    "print(\"La capture comprend les paquets suivants :\\n\")\n",
    "paquets.summary()"
   ]
  },
  {
   "cell_type": "markdown",
   "metadata": {},
   "source": [
    "# Inspecter et obtenir la valeur d'un champ d'un paquet"
   ]
  },
  {
   "cell_type": "markdown",
   "metadata": {},
   "source": [
    "Scapy utilise sa propre structure de données pour représenter les paquets. Cette structure est basée sur des **dictionnaires** imbriqués. Un dictionnaire est une collection qui associe une clé à une valeur. Pour créer un dictionnaire, on associe une clé à une valeur en les séparant par :, le tout entre accolades {}. Pour accéder à la valeur d'élément d'un dictionnaire, il faut utiliser les crochets et préciser la valeur de la clé. Il est possible de changer la valeur pour une clé donnée ou ajouter une nouvelle valeur pour une nouvelle clé."
   ]
  },
  {
   "cell_type": "code",
   "execution_count": 3,
   "metadata": {},
   "outputs": [
    {
     "data": {
      "text/plain": [
       "'chef de departement'"
      ]
     },
     "execution_count": 3,
     "metadata": {},
     "output_type": "execute_result"
    }
   ],
   "source": [
    "RT={'LOGIN' : 'chef de departement', 'Soulayrol' :'enseignant', 'Maingreaud' : 'secretaire' }\n",
    "RT['LOGIN']"
   ]
  },
  {
   "cell_type": "code",
   "execution_count": 11,
   "metadata": {},
   "outputs": [
    {
     "name": "stdout",
     "output_type": "stream",
     "text": [
      "Mr Guillemin est chef de departement au département R&T de l'IUT de Vélizy\n",
      "Mr Soulayrol est enseignant au département R&T de l'IUT de Vélizy\n",
      "Mr Maingreaud est secretaire au département R&T de l'IUT de Vélizy\n",
      "Mr Marty est enseignant au département R&T de l'IUT de Vélizy\n"
     ]
    },
    {
     "data": {
      "text/plain": [
       "[None, None, None, None]"
      ]
     },
     "execution_count": 11,
     "metadata": {},
     "output_type": "execute_result"
    }
   ],
   "source": [
    "RT['Marty']='enseignant'\n",
    "[print(f\"Mr {nom} est {RT[nom]} au département R&T de l'IUT de Vélizy\") for nom in RT]"
   ]
  },
  {
   "cell_type": "markdown",
   "metadata": {},
   "source": [
    "Des dictionnaires imbriqués sont des dictionnaires dans des dictionnaires comme illustré ci-dessous :"
   ]
  },
  {
   "cell_type": "code",
   "execution_count": 12,
   "metadata": {},
   "outputs": [
    {
     "data": {
      "text/plain": [
       "'chef de departement'"
      ]
     },
     "execution_count": 12,
     "metadata": {},
     "output_type": "execute_result"
    }
   ],
   "source": [
    "RT={'Guillemin' : {'fonction' : 'chef de departement', 'année de recutement' : 2002, \\\n",
    "                   'Enseignant en' : 'Réseaux, télécom'},\n",
    "    'Marty' : {'fonction' : 'Responsable de l\\'alternance', 'année de recutement' : 2010, \\\n",
    "                   'Enseignant en' : 'Réseaux'}} \n",
    "RT['Guillemin']['fonction']"
   ]
  },
  {
   "cell_type": "markdown",
   "metadata": {},
   "source": [
    "Dans un fichier pcap ou pcapng, chaque paquet est un élément d'un dictionnaire, la clé correspondant au numéro de paquet en partant de 0. Dans la capture chargée précédemement on a 4 paquets :\n",
    "\n",
    "![CONVOLUTION](Images/ping_google.png)\n",
    "\n",
    "On peut donc récupérer le premier paquet avec :\n",
    "\n"
   ]
  },
  {
   "cell_type": "code",
   "execution_count": 13,
   "metadata": {},
   "outputs": [
    {
     "name": "stdout",
     "output_type": "stream",
     "text": [
      "Le premier paquet est le suivant :\n"
     ]
    },
    {
     "data": {
      "text/plain": [
       "<Ether  dst=f4:ca:e5:5d:b5:c8 src=8c:85:90:c5:71:56 type=IPv4 |<IP  version=4 ihl=5 tos=0x0 len=84 id=3173 flags= frag=0 ttl=64 proto=icmp chksum=0x9c5c src=192.168.1.48 dst=8.8.8.8 |<ICMP  type=echo-request code=0 chksum=0xf4cc id=0x5662 seq=0x0 |<Raw  load='a\\xc0\\xbd\\xd2\\x00\\x05\\xa25\\x08\\t\\n\\x0b\\x0c\\r\\x0e\\x0f\\x10\\x11\\x12\\x13\\x14\\x15\\x16\\x17\\x18\\x19\\x1a\\x1b\\x1c\\x1d\\x1e\\x1f !\"#$%&\\'()*+,-./01234567' |>>>>"
      ]
     },
     "execution_count": 13,
     "metadata": {},
     "output_type": "execute_result"
    }
   ],
   "source": [
    "print('Le premier paquet est le suivant :')\n",
    "paquets[0]"
   ]
  },
  {
   "cell_type": "markdown",
   "metadata": {},
   "source": [
    "Chaque paquet est une collection de dictionnaires imbriqués, chaque couche étant un dictionnaire enfant de la couche précédente, construit à partir de la couche la plus basse.  On peut le voir avec l'imbrication des signes < et > dans le paquet précédent. On peut donc accéder à une couche et les couches supérieur puisqu'elles sont imbriquées avec :"
   ]
  },
  {
   "cell_type": "code",
   "execution_count": 5,
   "metadata": {},
   "outputs": [
    {
     "data": {
      "text/plain": [
       "<IP  version=4 ihl=5 tos=0x0 len=84 id=7714 flags= frag=0 ttl=64 proto=icmp chksum=0x8a9f src=192.168.1.48 dst=8.8.8.8 |<ICMP  type=echo-request code=0 chksum=0xe086 id=0x5662 seq=0x1 |<Raw  load='a\\xc0\\xbd\\xd3\\x00\\x05\\xb6y\\x08\\t\\n\\x0b\\x0c\\r\\x0e\\x0f\\x10\\x11\\x12\\x13\\x14\\x15\\x16\\x17\\x18\\x19\\x1a\\x1b\\x1c\\x1d\\x1e\\x1f !\"#$%&\\'()*+,-./01234567' |>>>"
      ]
     },
     "execution_count": 5,
     "metadata": {},
     "output_type": "execute_result"
    }
   ],
   "source": [
    "paquets[2]['IP']"
   ]
  },
  {
   "cell_type": "markdown",
   "metadata": {},
   "source": [
    "Ou plus simplement sans mettre les guillemets , Scapy interprétenant le contenu des crochets comme une str :"
   ]
  },
  {
   "cell_type": "code",
   "execution_count": 15,
   "metadata": {},
   "outputs": [
    {
     "data": {
      "text/plain": [
       "<IP  version=4 ihl=5 tos=0x0 len=84 id=7714 flags= frag=0 ttl=64 proto=icmp chksum=0x8a9f src=192.168.1.48 dst=8.8.8.8 |<ICMP  type=echo-request code=0 chksum=0xe086 id=0x5662 seq=0x1 |<Raw  load='a\\xc0\\xbd\\xd3\\x00\\x05\\xb6y\\x08\\t\\n\\x0b\\x0c\\r\\x0e\\x0f\\x10\\x11\\x12\\x13\\x14\\x15\\x16\\x17\\x18\\x19\\x1a\\x1b\\x1c\\x1d\\x1e\\x1f !\"#$%&\\'()*+,-./01234567' |>>>"
      ]
     },
     "execution_count": 15,
     "metadata": {},
     "output_type": "execute_result"
    }
   ],
   "source": [
    "paquets[2][IP]"
   ]
  },
  {
   "cell_type": "markdown",
   "metadata": {},
   "source": [
    "On peut ensuite accéder à un champ d'une couche avec un point et le nom du champ : "
   ]
  },
  {
   "cell_type": "code",
   "execution_count": 16,
   "metadata": {},
   "outputs": [
    {
     "data": {
      "text/plain": [
       "'8.8.8.8'"
      ]
     },
     "execution_count": 16,
     "metadata": {},
     "output_type": "execute_result"
    }
   ],
   "source": [
    "paquets[2][IP].dst"
   ]
  },
  {
   "cell_type": "markdown",
   "metadata": {},
   "source": [
    "Certains protocoles (généralement applicatifs) ne sont pas décodés par Scapy. Les données sont alors des données brutes indiqué par le mot clé **\"Raw\"** et ce sont des bytes notés b''. C'est par exemple le cas du contenu du paquet ICMP :"
   ]
  },
  {
   "cell_type": "code",
   "execution_count": 17,
   "metadata": {},
   "outputs": [
    {
     "data": {
      "text/plain": [
       "b'a\\xc0\\xbd\\xd2\\x00\\x05\\xa25\\x08\\t\\n\\x0b\\x0c\\r\\x0e\\x0f\\x10\\x11\\x12\\x13\\x14\\x15\\x16\\x17\\x18\\x19\\x1a\\x1b\\x1c\\x1d\\x1e\\x1f !\"#$%&\\'()*+,-./01234567'"
      ]
     },
     "execution_count": 17,
     "metadata": {},
     "output_type": "execute_result"
    }
   ],
   "source": [
    "paquets[0][Raw].load"
   ]
  },
  {
   "cell_type": "markdown",
   "metadata": {},
   "source": [
    "C'est aussi le cas du protocole SIP. Comme le contenu du protocole SIP est en mode texte, on pourra cependant récupérer les différents champs mais on devra parser les champs manuellement en utilisant les différentes fonctions (méthodes) fournies par les chaîne de caractère notamment la fonction split qui permet de séparer les différents élements en fonction d'un séparateur, ici l'espace (sep=None). Comme le protocole SIP est en mode texte avec un encodage UTF8, on peut ensuite décoder un éléments de la liste avec la fonction decode."
   ]
  },
  {
   "cell_type": "code",
   "execution_count": 7,
   "metadata": {},
   "outputs": [
    {
     "data": {
      "text/plain": [
       "<Raw  load='REGISTER sip:192.168.51.234:5060 SIP/2.0\\r\\nVia: SIP/2.0/UDP 192.168.35.42:5060;branch=z9hG4bK32fe687e88f536aca\\r\\nMax-Forwards: 70\\r\\nFrom: \"e1_tel1\" <sip:e1_tel1@192.168.51.234:5060>;tag=cbd9deb1a0\\r\\nTo: \"e1_tel1\" <sip:e1_tel1@192.168.51.234:5060>\\r\\nCall-ID: 09873fddf9ec647f\\r\\nCSeq: 2090097983 REGISTER\\r\\nAccept-Language: en\\r\\nAllow: INVITE, ACK, CANCEL, BYE, NOTIFY, REFER, OPTIONS, UPDATE, PRACK, SUBSCRIBE, INFO, PUBLISH\\r\\nAllow-Events: talk, hold, conference, LocalModeStatus\\r\\nAuthorization: Digest username=\"e1_tel1\",realm=\"asterisk\",nonce=\"274fcc0b\",uri=\"sip:192.168.51.234:5060\",response=\"4fb0cc1fbb5111ca76e9c147bc6bcabe\",algorithm=MD5\\r\\nContact: \"e1_tel1\" <sip:e1_tel1@192.168.35.42:5060;transport=udp>;+sip.instance=\"<urn:uuid:00000000-0000-1000-8000-00085D6BA371>\"\\r\\nSupported: path, gruu\\r\\nUser-Agent: Aastra 6863i/4.1.0.156\\r\\nContent-Length: 0\\r\\n\\r\\n' |>"
      ]
     },
     "execution_count": 7,
     "metadata": {},
     "output_type": "execute_result"
    }
   ],
   "source": [
    "paquets2=rdpcap(\"Wireshark/SIP.pcapng\")\n",
    "paquets2[0][Raw]"
   ]
  },
  {
   "cell_type": "markdown",
   "metadata": {},
   "source": [
    "Si le protocole est en mode texte comme SIP, on peut alors récupérer (parser) des champs du message avec les méthodes  sur les chaines de caractères notamment la methode split qui permet de séparer les chaines en fonction d'un séparateur (ici l'espace : sep = None) dans une liste :"
   ]
  },
  {
   "cell_type": "code",
   "execution_count": 97,
   "metadata": {},
   "outputs": [
    {
     "data": {
      "text/plain": [
       "[b'REGISTER',\n",
       " b'sip:192.168.51.234:5060',\n",
       " b'SIP/2.0',\n",
       " b'Via:',\n",
       " b'SIP/2.0/UDP',\n",
       " b'192.168.35.42:5060;branch=z9hG4bK32fe687e88f536aca',\n",
       " b'Max-Forwards:',\n",
       " b'70',\n",
       " b'From:',\n",
       " b'\"e1_tel1\"',\n",
       " b'<sip:e1_tel1@192.168.51.234:5060>;tag=cbd9deb1a0',\n",
       " b'To:',\n",
       " b'\"e1_tel1\"',\n",
       " b'<sip:e1_tel1@192.168.51.234:5060>',\n",
       " b'Call-ID:',\n",
       " b'09873fddf9ec647f',\n",
       " b'CSeq:',\n",
       " b'2090097983',\n",
       " b'REGISTER',\n",
       " b'Accept-Language:',\n",
       " b'en',\n",
       " b'Allow:',\n",
       " b'INVITE,',\n",
       " b'ACK,',\n",
       " b'CANCEL,',\n",
       " b'BYE,',\n",
       " b'NOTIFY,',\n",
       " b'REFER,',\n",
       " b'OPTIONS,',\n",
       " b'UPDATE,',\n",
       " b'PRACK,',\n",
       " b'SUBSCRIBE,',\n",
       " b'INFO,',\n",
       " b'PUBLISH',\n",
       " b'Allow-Events:',\n",
       " b'talk,',\n",
       " b'hold,',\n",
       " b'conference,',\n",
       " b'LocalModeStatus',\n",
       " b'Authorization:',\n",
       " b'Digest',\n",
       " b'username=\"e1_tel1\",realm=\"asterisk\",nonce=\"274fcc0b\",uri=\"sip:192.168.51.234:5060\",response=\"4fb0cc1fbb5111ca76e9c147bc6bcabe\",algorithm=MD5',\n",
       " b'Contact:',\n",
       " b'\"e1_tel1\"',\n",
       " b'<sip:e1_tel1@192.168.35.42:5060;transport=udp>;+sip.instance=\"<urn:uuid:00000000-0000-1000-8000-00085D6BA371>\"',\n",
       " b'Supported:',\n",
       " b'path,',\n",
       " b'gruu',\n",
       " b'User-Agent:',\n",
       " b'Aastra',\n",
       " b'6863i/4.1.0.156',\n",
       " b'Content-Length:',\n",
       " b'0']"
      ]
     },
     "execution_count": 97,
     "metadata": {},
     "output_type": "execute_result"
    }
   ],
   "source": [
    "paquets2[0][Raw].load.split(sep=None)"
   ]
  },
  {
   "cell_type": "markdown",
   "metadata": {},
   "source": [
    "On peut alors récupérer le champ désiré en récupérant le bon élément de la liste :"
   ]
  },
  {
   "cell_type": "code",
   "execution_count": 19,
   "metadata": {},
   "outputs": [
    {
     "data": {
      "text/plain": [
       "b'REGISTER'"
      ]
     },
     "execution_count": 19,
     "metadata": {},
     "output_type": "execute_result"
    }
   ],
   "source": [
    "paquets2[0][Raw].load.split(sep=None)[0]"
   ]
  },
  {
   "cell_type": "markdown",
   "metadata": {},
   "source": [
    "Il s'agit d'un contenu hexadécimal noté b'' et on peut donc le décoder en indiquant le format d'encodage (par défaut on prendra UTF8) pour obtenir la chaîne de caratères correspondante : "
   ]
  },
  {
   "cell_type": "code",
   "execution_count": 20,
   "metadata": {},
   "outputs": [
    {
     "data": {
      "text/plain": [
       "'REGISTER'"
      ]
     },
     "execution_count": 20,
     "metadata": {},
     "output_type": "execute_result"
    }
   ],
   "source": [
    "paquets2[0][Raw].load.split(sep=None)[0].decode('UTF8')"
   ]
  },
  {
   "cell_type": "markdown",
   "metadata": {},
   "source": [
    "# Sniffer des paquets"
   ]
  },
  {
   "cell_type": "markdown",
   "metadata": {},
   "source": [
    "La fonction **sniff(filter=\"\", count=0, prn=None, lfilter=None, timeout=None, ..)** permet de capturer le trafic réseau à partir d'une ou plusieurs interfaces. sniff() a 6 options :\n",
    "\n",
    "- filter : filtre les paquets à l'intérieur du noyau Linux ce qui rend le filtrage très rapide. L'écriture du filtre  utilise la syntaxe BPF \"Berkeley Packet Filter\" dont on trouvera une documentation ici : https://biot.com/capstats/bpf.html.  On utilisera donc ce filtre dans la SAE pour ne garder que les paquets associés au protocole applicatif utilisé. Ex: filter=\"tcp and port 80\"\n",
    "\n",
    "![CONVOLUTION](Images/sniff_filter.png)\n",
    "\n",
    "- count : nombre de paquet à capturer. La valeur par défaut est 0 ce qui veut dire qu'il n'y a pas de limite au nombre de paquets capturés.\n",
    "- prn : nom de la fonction à appliquer à chaque paquet reçu.  C'est dans cette fonction qu'on effectuera les traitements sur les paquets (détection du login, mot de passe, ...)\n",
    "- lfilter : filtre les paquets à l'aide d'une fonction Python, on pourra utiliser une fonction lambda. Comme filter ce filtre est  utilisé pour filtrer les paquets en utilisant la syntaxe Python/Scapy. On peut dont cibler n'importe quel champ d'un protocole par contre ce filtre est beaucoup plus lent car pas implémenté dans le noyau. Ex : lfilter = lambda pkt: TCP in pkt and(pkt[TCP].dport == 80 or pkt[TCP].sport == 80)\n",
    "- timeout : durée de la capture, par défaut None=∞ (^C pour arrêter)\n",
    "- iface : interface sur laquelle on souhaite capturer les paquets (défaut :all)\n",
    "- store : s'il faut stocker les paquets capturés ou les supprimer (store=0). Si la capture dure dans le temps et qu'on stocke les paquets, la RAM allouée au processus augmentera progressivement avec l'enregistrement des paquets.\n",
    "- stopfilter : fonction à évaluer pour arrêter la capture (la fonction doit retourner true pour arrêter, false pour continuer)\n",
    "\n",
    "\n",
    "Si on veut utiliser la fonction sniff() dans un notebook, on mettra une timeout ou un nombre de paquets à capturer. Un exemple d'utilisation de la fonction sniff pour afficher les 4 premiers paquets ICMP émis et reçus sur une interface est donné ci-dessous :"
   ]
  },
  {
   "cell_type": "code",
   "execution_count": 2,
   "metadata": {},
   "outputs": [
    {
     "ename": "OSError",
     "evalue": "b'en0: No such device exists (No such device exists)'",
     "output_type": "error",
     "traceback": [
      "\u001b[1;31m---------------------------------------------------------------------------\u001b[0m",
      "\u001b[1;31mOSError\u001b[0m                                   Traceback (most recent call last)",
      "\u001b[1;32m~\\AppData\\Local\\Temp/ipykernel_4916/2445910283.py\u001b[0m in \u001b[0;36m<module>\u001b[1;34m\u001b[0m\n\u001b[0;32m     13\u001b[0m \u001b[1;33m\u001b[0m\u001b[0m\n\u001b[0;32m     14\u001b[0m \u001b[0miface_ip\u001b[0m\u001b[1;33m=\u001b[0m\u001b[0mget_if_addr\u001b[0m\u001b[1;33m(\u001b[0m\u001b[0mconf\u001b[0m\u001b[1;33m.\u001b[0m\u001b[0miface\u001b[0m\u001b[1;33m)\u001b[0m\u001b[1;33m\u001b[0m\u001b[1;33m\u001b[0m\u001b[0m\n\u001b[1;32m---> 15\u001b[1;33m \u001b[0msniff\u001b[0m\u001b[1;33m(\u001b[0m\u001b[0mfilter\u001b[0m\u001b[1;33m=\u001b[0m\u001b[1;34m\"icmp\"\u001b[0m\u001b[1;33m,\u001b[0m \u001b[0mprn\u001b[0m\u001b[1;33m=\u001b[0m\u001b[0mprint_icmp\u001b[0m\u001b[1;33m,\u001b[0m \u001b[0mstore\u001b[0m\u001b[1;33m=\u001b[0m\u001b[1;36m0\u001b[0m\u001b[1;33m,\u001b[0m \u001b[0miface\u001b[0m\u001b[1;33m=\u001b[0m\u001b[1;34m'en0'\u001b[0m\u001b[1;33m,\u001b[0m \u001b[0mcount\u001b[0m\u001b[1;33m=\u001b[0m\u001b[1;36m4\u001b[0m\u001b[1;33m)\u001b[0m\u001b[1;33m\u001b[0m\u001b[1;33m\u001b[0m\u001b[0m\n\u001b[0m",
      "\u001b[1;32m~\\anaconda3\\lib\\site-packages\\scapy\\sendrecv.py\u001b[0m in \u001b[0;36msniff\u001b[1;34m(*args, **kwargs)\u001b[0m\n\u001b[0;32m   1261\u001b[0m     \u001b[1;31m# type: (*Any, **Any) -> PacketList\u001b[0m\u001b[1;33m\u001b[0m\u001b[1;33m\u001b[0m\u001b[0m\n\u001b[0;32m   1262\u001b[0m     \u001b[0msniffer\u001b[0m \u001b[1;33m=\u001b[0m \u001b[0mAsyncSniffer\u001b[0m\u001b[1;33m(\u001b[0m\u001b[1;33m)\u001b[0m\u001b[1;33m\u001b[0m\u001b[1;33m\u001b[0m\u001b[0m\n\u001b[1;32m-> 1263\u001b[1;33m     \u001b[0msniffer\u001b[0m\u001b[1;33m.\u001b[0m\u001b[0m_run\u001b[0m\u001b[1;33m(\u001b[0m\u001b[1;33m*\u001b[0m\u001b[0margs\u001b[0m\u001b[1;33m,\u001b[0m \u001b[1;33m**\u001b[0m\u001b[0mkwargs\u001b[0m\u001b[1;33m)\u001b[0m\u001b[1;33m\u001b[0m\u001b[1;33m\u001b[0m\u001b[0m\n\u001b[0m\u001b[0;32m   1264\u001b[0m     \u001b[1;32mreturn\u001b[0m \u001b[0mcast\u001b[0m\u001b[1;33m(\u001b[0m\u001b[0mPacketList\u001b[0m\u001b[1;33m,\u001b[0m \u001b[0msniffer\u001b[0m\u001b[1;33m.\u001b[0m\u001b[0mresults\u001b[0m\u001b[1;33m)\u001b[0m\u001b[1;33m\u001b[0m\u001b[1;33m\u001b[0m\u001b[0m\n\u001b[0;32m   1265\u001b[0m \u001b[1;33m\u001b[0m\u001b[0m\n",
      "\u001b[1;32m~\\anaconda3\\lib\\site-packages\\scapy\\sendrecv.py\u001b[0m in \u001b[0;36m_run\u001b[1;34m(self, count, store, offline, quiet, prn, lfilter, L2socket, timeout, opened_socket, stop_filter, iface, started_callback, session, session_kwargs, **karg)\u001b[0m\n\u001b[0;32m   1125\u001b[0m                 )\n\u001b[0;32m   1126\u001b[0m             \u001b[1;32melse\u001b[0m\u001b[1;33m:\u001b[0m\u001b[1;33m\u001b[0m\u001b[1;33m\u001b[0m\u001b[0m\n\u001b[1;32m-> 1127\u001b[1;33m                 sniff_sockets[L2socket(type=ETH_P_ALL, iface=iface,\n\u001b[0m\u001b[0;32m   1128\u001b[0m                                        **karg)] = iface\n\u001b[0;32m   1129\u001b[0m \u001b[1;33m\u001b[0m\u001b[0m\n",
      "\u001b[1;32m~\\anaconda3\\lib\\site-packages\\scapy\\arch\\libpcap.py\u001b[0m in \u001b[0;36m__init__\u001b[1;34m(self, iface, type, promisc, filter, monitor)\u001b[0m\n\u001b[0;32m    374\u001b[0m                 \u001b[0mpromisc\u001b[0m \u001b[1;33m=\u001b[0m \u001b[0mconf\u001b[0m\u001b[1;33m.\u001b[0m\u001b[0msniff_promisc\u001b[0m\u001b[1;33m\u001b[0m\u001b[1;33m\u001b[0m\u001b[0m\n\u001b[0;32m    375\u001b[0m             \u001b[0mself\u001b[0m\u001b[1;33m.\u001b[0m\u001b[0mpromisc\u001b[0m \u001b[1;33m=\u001b[0m \u001b[0mpromisc\u001b[0m\u001b[1;33m\u001b[0m\u001b[1;33m\u001b[0m\u001b[0m\n\u001b[1;32m--> 376\u001b[1;33m             self.ins = open_pcap(iface, MTU, self.promisc, 100,\n\u001b[0m\u001b[0;32m    377\u001b[0m                                  monitor=monitor)\n\u001b[0;32m    378\u001b[0m             \u001b[1;32mtry\u001b[0m\u001b[1;33m:\u001b[0m\u001b[1;33m\u001b[0m\u001b[1;33m\u001b[0m\u001b[0m\n",
      "\u001b[1;32m~\\anaconda3\\lib\\site-packages\\scapy\\arch\\windows\\__init__.py\u001b[0m in \u001b[0;36mopen_pcap\u001b[1;34m(iface, *args, **kargs)\u001b[0m\n\u001b[0;32m    702\u001b[0m                 \u001b[1;31m# interface state\u001b[0m\u001b[1;33m\u001b[0m\u001b[1;33m\u001b[0m\u001b[0m\n\u001b[0;32m    703\u001b[0m                 \u001b[0miface\u001b[0m\u001b[1;33m.\u001b[0m\u001b[0msetmonitor\u001b[0m\u001b[1;33m(\u001b[0m\u001b[0mkw_monitor\u001b[0m\u001b[1;33m)\u001b[0m\u001b[1;33m\u001b[0m\u001b[1;33m\u001b[0m\u001b[0m\n\u001b[1;32m--> 704\u001b[1;33m         \u001b[1;32mreturn\u001b[0m \u001b[0m_orig_open_pcap\u001b[0m\u001b[1;33m(\u001b[0m\u001b[0miface_network_name\u001b[0m\u001b[1;33m,\u001b[0m \u001b[1;33m*\u001b[0m\u001b[0margs\u001b[0m\u001b[1;33m,\u001b[0m \u001b[1;33m**\u001b[0m\u001b[0mkargs\u001b[0m\u001b[1;33m)\u001b[0m\u001b[1;33m\u001b[0m\u001b[1;33m\u001b[0m\u001b[0m\n\u001b[0m\u001b[0;32m    705\u001b[0m     \u001b[0mlibpcap\u001b[0m\u001b[1;33m.\u001b[0m\u001b[0mopen_pcap\u001b[0m \u001b[1;33m=\u001b[0m \u001b[0mopen_pcap\u001b[0m\u001b[1;33m\u001b[0m\u001b[1;33m\u001b[0m\u001b[0m\n\u001b[0;32m    706\u001b[0m \u001b[1;33m\u001b[0m\u001b[0m\n",
      "\u001b[1;32m~\\anaconda3\\lib\\site-packages\\scapy\\arch\\libpcap.py\u001b[0m in \u001b[0;36m__init__\u001b[1;34m(self, device, snaplen, promisc, to_ms, monitor)\u001b[0m\n\u001b[0;32m    252\u001b[0m                 \u001b[0merror\u001b[0m \u001b[1;33m=\u001b[0m \u001b[0mbytes\u001b[0m\u001b[1;33m(\u001b[0m\u001b[0mbytearray\u001b[0m\u001b[1;33m(\u001b[0m\u001b[0mself\u001b[0m\u001b[1;33m.\u001b[0m\u001b[0merrbuf\u001b[0m\u001b[1;33m)\u001b[0m\u001b[1;33m)\u001b[0m\u001b[1;33m.\u001b[0m\u001b[0mstrip\u001b[0m\u001b[1;33m(\u001b[0m\u001b[1;34mb\"\\x00\"\u001b[0m\u001b[1;33m)\u001b[0m\u001b[1;33m\u001b[0m\u001b[1;33m\u001b[0m\u001b[0m\n\u001b[0;32m    253\u001b[0m                 \u001b[1;32mif\u001b[0m \u001b[0merror\u001b[0m\u001b[1;33m:\u001b[0m\u001b[1;33m\u001b[0m\u001b[1;33m\u001b[0m\u001b[0m\n\u001b[1;32m--> 254\u001b[1;33m                     \u001b[1;32mraise\u001b[0m \u001b[0mOSError\u001b[0m\u001b[1;33m(\u001b[0m\u001b[0merror\u001b[0m\u001b[1;33m)\u001b[0m\u001b[1;33m\u001b[0m\u001b[1;33m\u001b[0m\u001b[0m\n\u001b[0m\u001b[0;32m    255\u001b[0m \u001b[1;33m\u001b[0m\u001b[0m\n\u001b[0;32m    256\u001b[0m             \u001b[1;32mif\u001b[0m \u001b[0mWINDOWS\u001b[0m\u001b[1;33m:\u001b[0m\u001b[1;33m\u001b[0m\u001b[1;33m\u001b[0m\u001b[0m\n",
      "\u001b[1;31mOSError\u001b[0m: b'en0: No such device exists (No such device exists)'"
     ]
    }
   ],
   "source": [
    "from scapy.all import *\n",
    "\n",
    "ICMP_types={ 0 : 'Echo-Reply', 3 : 'Destination Unreachable', 8 : 'Echo'}\n",
    "\n",
    "def print_icmp (packet) : \n",
    "    type=packet[ICMP].type\n",
    "    ips=packet[IP].src\n",
    "    ipd=packet[IP].dst\n",
    "    if ips==iface_ip :\n",
    "        print(f\"Emission d'un paquet ICMP {ICMP_types[type]} vers {ipd}\")\n",
    "    else :\n",
    "        print(f\"Réception d'un paquet ICMP {ICMP_types[type]} en provenance de {ips}\")\n",
    "\n",
    "iface_ip=get_if_addr(conf.iface)\n",
    "sniff(filter=\"icmp\", prn=print_icmp, store=0, iface='en0', count=4)"
   ]
  },
  {
   "cell_type": "code",
   "execution_count": null,
   "metadata": {},
   "outputs": [],
   "source": []
  }
 ],
 "metadata": {
  "kernelspec": {
   "display_name": "Python 3 (ipykernel)",
   "language": "python",
   "name": "python3"
  },
  "language_info": {
   "codemirror_mode": {
    "name": "ipython",
    "version": 3
   },
   "file_extension": ".py",
   "mimetype": "text/x-python",
   "name": "python",
   "nbconvert_exporter": "python",
   "pygments_lexer": "ipython3",
   "version": "3.9.7"
  }
 },
 "nbformat": 4,
 "nbformat_minor": 4
}
