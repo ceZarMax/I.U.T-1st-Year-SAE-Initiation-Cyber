{
 "cells": [
  {
   "cell_type": "markdown",
   "id": "82a72798",
   "metadata": {},
   "source": [
    "# <img src=\"https://blogueaffaires.cogeco.ca/wp-content/uploads/2019/07/shutterstock_710262001-1920x1280-2.jpg\" align=center style=\"width: 600px;\">"
   ]
  },
  {
   "cell_type": "markdown",
   "id": "0052ab85",
   "metadata": {},
   "source": [
    "# <span style=\"color:red\">SAÉ INTRO CYBER - GIRAULT Adrien et ARVIN-BÉROD Maxence</span>\n",
    "\n",
    "Bienvenue sur notre SAE INTRO CYBER qui sera sur la **Réalisation d'un CTF débutant orienté sur le réseau et sur l'utilisation de Python et Scapy**. </br>\n",
    "\n",
    "###  <span style=\"color:red\">Qu'est-ce qu'un CTF ?</span> \n",
    "<div class=\"alert alert-block alert-info bilan\">\n",
    "CTF signifie \"Capture The Flag\" .</br>\n",
    "C'est une suite de challenges de cybersécurité à enchainer pour récupérer des informations que l'on appelle le \"drapeau\".\n",
    "</div>\n",
    "<img src=\"https://www.social-engineer.org/wp-content/uploads/2014/01/SECTF-WebGFX-1024x455.jpg\" align=center style=\"width: 350px;\"> \n",
    "\n",
    "***DEF CON***, *la plus grande conférence de hackers*"
   ]
  },
  {
   "cell_type": "markdown",
   "id": "5ad06e76",
   "metadata": {},
   "source": [
    "###  <span style=\"color:red\">Le CTF à réaliser :</span> \n"
   ]
  },
  {
   "cell_type": "markdown",
   "id": "66188ac0",
   "metadata": {},
   "source": [
    "*Salut jeune Padawan, les Sith préparent une attaque contre une planète localisée dans la \n",
    "bordure médiane. Heureusement le maître Jedi Guillemin a intercepté la communication \n",
    "chiffrée envoyée par Dark Plageuis à Dark Sidious qui indique la planète qui sera détruite et la \n",
    "date de l’attaque. Il est parti en mission sur Tatouine et te confie la mission de décoder ce \n",
    "message. Fais vite énormément de vies en dépendent ! La communication a été enregistrée \n",
    "dans un fichier nommé McDiarmid.pcapng*"
   ]
  },
  {
   "cell_type": "markdown",
   "id": "2a52680d",
   "metadata": {},
   "source": [
    "###  <span style=\"color:red\">Pour ce CTF nous aurons besoins de :</span> \n",
    "\n",
    "- WireShark\n",
    "- FileZilla\n",
    "- Python\n",
    "- Scapy"
   ]
  },
  {
   "cell_type": "markdown",
   "id": "b1f00bfd",
   "metadata": {},
   "source": [
    "### <span style=\"color:red\">WireShark : </span> \n",
    "`WireShark` est un **analyseur** de protocoles **réseau** libre et gratuit. </br>\n",
    "Il est utilisé dans le dépannage et l’analyse de réseaux informatiques, le développement de protocoles, l’éducation et la rétro-ingénierie\n",
    "\n",
    "<img src=\"https://www.nesabamedia.com/wp-content/uploads/2019/12/Wireshark.jpg\" align=center style=\"width: 300px;\">"
   ]
  },
  {
   "cell_type": "markdown",
   "id": "90242a91",
   "metadata": {},
   "source": [
    "### <span style=\"color:red\">FileZilla : </span> \n",
    "`FileZilla` est un client **FTP, FTPS et SFTP,** développé sous la licence publique générale GNU. </br>\n",
    "Il est intégré à la liste des logiciels libres préconisés par l’État français dans le cadre de la modernisation globale de ses **systèmes d’informations** (S.I.).\n",
    "\n",
    "*Client : Mode de transaction entre plusieurs programmes et processus. L'un envoie des requêtes (le client), l'autre attend les requêtes des clients et y répond (le serveur).* \n",
    "\n",
    "*FTP : \"File Transfert Protocole\" est un protocole de communication destiné au partage de fichiers sur un réseau TCP/IP.*\n",
    "\n",
    "*FTPS : \"File Transfert Protocole Secure\" est un protocole de communication destiné à l'échange informatique de fichiers sur un réseau TCP/IP, variante du FTP, sécurisé avec les protocoles SSL ou TLS.*\n",
    "\n",
    "\n",
    "\n",
    "<img src=\"http://www.sanjaywebdesigner.com/articles/wp-content/uploads/2017/06/Antu_filezilla.svg_.png\" align=center style=\"width: 250px;\">"
   ]
  },
  {
   "cell_type": "markdown",
   "id": "36d4b58a",
   "metadata": {},
   "source": [
    "### <span style=\"color:red\">Python : </span> \n",
    "`Python` est un langage de programmation. </br>\n",
    "Il favorise la programmation structurée, fonctionnelle et orientée **objet** (la programmation orientée objet permet aux objets de communiquer entre eux).\n",
    "\n",
    "- Il est doté d'un typage **dynamique fort** (il garantit que les types de données employés décrivent correctement les données manipulées)\n",
    "- D'une **gestion automatique** de la mémoire par **ramasse-miettes** (sous-système informatique de gestion automatique de la mémoire) \n",
    "- D'un système de gestion d'exceptions (permet de gérer les conditions exceptionnelles pendant l'exécution du programme).\n",
    "\n",
    "\n",
    "\n",
    "<img src=\"http://zencart-france.com/wp-content/uploads/2019/06/langage-de-programmation-python.jpg\" align=center style=\"width: 350px;\">"
   ]
  },
  {
   "cell_type": "markdown",
   "id": "1259c7e2",
   "metadata": {},
   "source": [
    "### <span style=\"color:red\">Scapy : </span> \n",
    "`Scapy` est un logiciel **libre** de manipulation de **paquets réseau** écrit en `python`.\n",
    "\n",
    "Il est capable d'**intercepter** le trafic sur un segment réseau, de **générer** des paquets dans un nombre important de protocoles, de réaliser une **prise** d'empreinte de la pile TCP/IP, de faire un **traceroute**, d'**analyser** le réseau informatique...\n",
    "\n",
    "\n",
    "\n",
    "<img src=\"https://www.leixue.com/uploads/2020/08/Scapy.png\" align=center style=\"width: 350px;\">"
   ]
  },
  {
   "cell_type": "markdown",
   "id": "d967446e",
   "metadata": {},
   "source": [
    "<img src=\"http://www.theatre2lacte-lering.com/theatre2lacte/wp-content/uploads/2015/02/les-objectifs-800x200.png\" align=center style=\"width: 500px;\"> \n",
    "\n",
    "\n",
    "### <span style=\"color:darkgreen\">Chapitre 1 : Analyse du protocole de transfert de fichier</span>\n",
    "\n",
    "- Découverte de l'interception du transfert de fichier entre deux Siths sur WireShark\n",
    "\n",
    "- Récupération de `login` et `password` d'un Sith\n",
    "\n",
    "- Découverte de FileZilla\n",
    "\n",
    "\n",
    "### <span style=\"color:darkgreen\">Chapitre 2 : Installation de FileZilla</span>\n",
    "\n",
    "- Configuration d'un serveur FileZilla\n",
    "\n",
    "- Création d'un utilisateur\n",
    "\n",
    "- Transfert de fichier entre un PC serveur et PC client\n",
    "\n",
    "\n",
    "### <span style=\"color:darkgreen\">Chapitre 3 : Récupération automatique du login et du mot de passe</span>\n",
    "\n",
    "- Création d'un script permettant de récupérer en **dur** un login et mot de passe\n",
    "\n",
    "- Création d'un script permettant de récupérer **automatiquement** un login et un mot de passe\n",
    "\n",
    "### <span style=\"color:darkgreen\">Chapitre 4 : Récupération du fichier transmis à partir du numéro de port TCP et décodage du message chiffrée</span>\n",
    "\n",
    "- Création d'un programme qui récupère toutes les données transférées dans la capture Wireshark et les stocker dans un fichier nommé SW2.pdf\n",
    "\n",
    "- Création d'un programme qui permet de déchiffrer le message du Sith.\n",
    "\n",
    "### <span style=\"color:darkgreen\">Chapitre 5 : Récupération automatique du numéro de port TCP négocié pour le transfert et du fichier</span>\n",
    "\n",
    "- Création d'un script pour récupérer le numéro de port négocié pour le transfert de données ainsi que le nom du fichier à transférer codé en **dur**.\n",
    "\n",
    "- Récupérer automatiquement le numéro de port négocié pour le transfert, le nom du fichier et le fichier.\n",
    "\n",
    "### <span style=\"color:darkgreen\">Chapitre 6 : Attaque MITM</span>\n",
    "\n",
    "- a. Sniff les paquets FTP\n",
    "- b. Récupère le login et mot de passe de l’utilisateur\n",
    "- c. Identifie le numéro de port négocié pour un transfert de fichier ainsi que le nom du fichier et la fin de transfert\n",
    "- d. Enregistrer le fichier avec le nom de fichier utilisé pour le transfert\n",
    "- Qu'est-ce qu'une attaque MITM ?"
   ]
  },
  {
   "cell_type": "markdown",
   "id": "ff2929d2",
   "metadata": {},
   "source": [
    "# <span style=\"color:darkgreen\">Chapitre 1 : Analyse du protocole de transfert de fichier</span>\n",
    "\n",
    "\n"
   ]
  },
  {
   "cell_type": "markdown",
   "id": "0db7476f",
   "metadata": {},
   "source": [
    "### <span style=\"color:red\">1) Ouverture du fichier McDiarmid.pcapng dans WireShark</span>\n",
    "\n",
    "<img src=\"https://imgur.com/hpYfulU.png\" align=center style=\"width: 800px;\">\n",
    "\n",
    "Nous voyons qu'il s'agit d'un `header` qui envoie une réponse ou il y'a du texte.\n"
   ]
  },
  {
   "cell_type": "markdown",
   "id": "19f93640",
   "metadata": {},
   "source": [
    "### <span style=\"color:red\">2) Le protocole applicatif utilisée de cette communication</span>\n",
    "\n",
    "<img src=\"https://imgur.com/hpYfulU.png\" align=center style=\"width: 800px;\">\n",
    "\n",
    "L'envoi de ce fichier utilise le protcole applicatif **FTP**\n",
    "\n",
    "Il a comme port **source** : 21 et port **destination** : 56230 </br>\n",
    "**FTP** pour *File Transfert Protocol* est un protocole de communication destiné au partage de fichiers sur un réseau TCP/IP. </br>\n",
    "\n"
   ]
  },
  {
   "cell_type": "markdown",
   "id": "84025499",
   "metadata": {},
   "source": [
    "### <span style=\"color:red\">3) Adresse IP client et serveur</span>\n",
    "\n",
    "<img src=\"https://imgur.com/hpYfulU.png\" align=center style=\"width: 800px;\">\n",
    "\n",
    "- Adresse IP client : `192.168.35.24` \n",
    "- Adresse IP serveur : `192.168.35.235`"
   ]
  },
  {
   "cell_type": "markdown",
   "id": "c452edeb",
   "metadata": {},
   "source": [
    "### <span style=\"color:red\">4) Protocole de transport utilisé</span>\n",
    "\n",
    "\n",
    "Il s'agit d'un protocole **TCP**, WireShark permet de ce repérer sur le modèle **OSI**. Nous pouvons aperçevoir de haut en bas la couche 1 (Physique) à la couche 5 (Sessions).\n",
    "\n",
    "\n",
    "**Protocole TCP :**\n",
    "<div class=\"alert alert-block alert-info bilan\">\n",
    "\"Transmission Control Protocol\" est un protocole de contrôle de transmissions permettant d'établir une connexion et de transmettre des données.</br>\n",
    "\n",
    "- TCP permet de remettre en ordre les datagrammes en provenance du protocole IP\n",
    "- TCP permet de vérifier le flot de données afin d'éviter une saturation du réseau\n",
    "- TCP permet de formater les données en segments de longueur variable afin de les \"remettre\" au protocole IP\n",
    "- TCP permet de faire circuler simultanément des informations provenant de sources (applications par exemple) distinctes sur une même ligne\n",
    "- TCP permet enfin l'initialisation et la fin d'une communication de manière courtoise\n",
    "</div>\n",
    "\n",
    "<img src=\"http://electricala2z.com/wp-content/uploads/2017/10/osi-model.gif\" align=center style=\"width: 300px;\">\n",
    "\n",
    "Le numéro de ports **TCP** utilisé pour le protocole applicatif **FTP** par défaut est **21**"
   ]
  },
  {
   "cell_type": "markdown",
   "id": "b1523495",
   "metadata": {},
   "source": [
    "### <span style=\"color:red\">5) Message de bienvenue de ce site</span>\n",
    "\n",
    "\n",
    "Lorsque nous nous connectons, le serveur nous renvoie le message : </br>\n",
    "\n",
    "#########################################\n",
    "\n",
    "    ##   Come over the dark side    ##\n",
    "\n",
    "########################################\n",
    "\n",
    "<img src=\"https://imgur.com/t7nyPXy.png\" align=center style=\"width: 500px;\">\n",
    "\n"
   ]
  },
  {
   "cell_type": "markdown",
   "id": "9276360c",
   "metadata": {},
   "source": [
    "### <span style=\"color:red\">6) Login et mot de passe</span>\n",
    "\n",
    "\n",
    "- Le **USER** est `Dark_Sidius`\n",
    "- Le **PASS** est `Dark_Force`\n",
    "\n",
    "<img src=\"https://imgur.com/AhTl5WU.png\" align=center style=\"width: 600px;\">\n",
    "\n",
    "Le **USER** et le **PASS** sont transmis dans une *requête* provenant du client allant au *serveur*. Ensuite, le serveur *répond* qu'il faut entrer le **PASSWORD** et l'utilisateur transmet une *requête* avec le mot de passe écrit."
   ]
  },
  {
   "cell_type": "markdown",
   "id": "a39452f8",
   "metadata": {},
   "source": [
    "### <span style=\"color:red\">7) IP et PORTS</span>\n",
    "\n",
    "Le message utilisé pour préciser sur quelle adresse IP et quel numéro de port envoyer les données est : *Request: USER*\n",
    "\n",
    "- IP source (client) : `192.168.35.24`\n",
    "- IP destination (serveur) : `192.168.35.235`\n",
    "\n",
    "On envoie les données sur l'adresse IP destination du `serveur` et le port destination du `serveur` : **21**\n",
    "\n",
    "L'adresse IP et le numéro de de port sont indiqués sur la **couche 4** du modèle OSI pendant le **Transport**\n",
    "\n",
    "<img src=\"https://imgur.com/BxkrNoj.png\" align=center style=\"width: 600px;\">\n"
   ]
  },
  {
   "cell_type": "markdown",
   "id": "dcaed1b2",
   "metadata": {},
   "source": [
    "### <span style=\"color:red\">8) Protocole passif ou actif ?</span>\n",
    "\n",
    "\n",
    "\n",
    "**FTP Actif :**\n",
    "<div class=\"alert alert-block alert-info bilan\">\n",
    "En mode actif, c'est le client FTP qui détermine le port de connexion à utiliser pour permettre le transfert des données. Port : 20</br>\n",
    "    \n",
    "• Le port de commande du client contacte le port de commande du serveur et lui donne son port de données.\n",
    "\n",
    "• Le serveur donne un accusé de réception au port de commande du client.\n",
    "\n",
    "• Le serveur établit une connexion entre son port de données et le port de données du client.\n",
    "\n",
    "• Enfin, le client envoie un accusé de réception au serveur.\n",
    "\n",
    "</div>    \n",
    "\n",
    "**FTP Passif :**\n",
    "<div class=\"alert alert-block alert-info bilan\">\n",
    "En mode passif, le serveur FTP détermine lui-même le port de connexion à utiliser pour permettre le transfert des données (data connexion) et le communique au client. Port : 21 </br>\n",
    "\n",
    "• Le client contacte le port de commande du serveur et émet une commande PASV pour indiquer qu'il s'agit d'une connexion passive.\n",
    "\n",
    "• Ensuite, le serveur donne son port de données d’écoute au client.\n",
    "\n",
    "• Ensuite, le client établit une connexion de données entre le serveur et lui-même à l'aide du port indiqué. (le port est donné par le serveur)\n",
    "\n",
    "• Enfin, le serveur envoie un accusé de réception au client.\n",
    "    \n",
    "</div>    \n",
    "\n",
    "Le mode utilisé est le mode **FTP Passif** car le port est le 21 et le serveur FTP détermine lui-même le port de connexion à utiliser pour permettre le transfert des données.\n",
    "    \n",
    "<img src=\"https://imgur.com/XVOHvAw.png\" align=center style=\"width: 300px;\">\n",
    "\n",
    "\n"
   ]
  },
  {
   "cell_type": "markdown",
   "id": "c459cfa6",
   "metadata": {},
   "source": [
    "### <span style=\"color:red\">9-10) Transfert de données et commandes</span>\n",
    "\n",
    "Dans la capture, le transfert de données est représenté par le protocole applicatif `FTP-DATA`. </br>\n",
    "Nous allons les filtrer pour en savoir le nombres :\n",
    "    \n",
    "<img src=\"https://imgur.com/RO1fzTv.png\" align=center style=\"width: 600px;\">\n",
    "\n",
    "- Il y'a **90** transfert de données.\n",
    "\n",
    "Elles sont initiées après ces trammes :\n",
    "\n",
    "- FTP\tResponse: 150 Opening ASCII mode data connection for file list.\n",
    "\n",
    "Et les données transférées sont des **octets** dont le fichier pdf se nomme *attaque_sith.pdf*\n",
    "\n",
    "Ce fichier contient 128 718 **bytes** soit 128 718 **octets** soit 128,718 *kilooctets*\n",
    "\n",
    "Il y'a : **87** paquets de 1460 bytes qui vont être transférés\n",
    "\n",
    "Si les paquets envois que **maximum** 1460 bytes, c'est parce que la taille **maximale** MTU(Maximum Transmission Unit) de l'UDP que nous pouvons recevoir sans fragmentation est de **1460 bytes (octets)**."
   ]
  },
  {
   "cell_type": "markdown",
   "id": "074b3d7c",
   "metadata": {},
   "source": [
    "### <span style=\"color:red\">11) Fin du téléchargement</span>\n",
    "\n",
    "Le message qui marque la fin du téléchargement est : </br>\n",
    "\n",
    "*Response: 226 Transfer complete*\n",
    "\n",
    "<img src=\"https://image.freepik.com/psd-gratuitement/jolie-petite-barre-de-progression-psd_28-560.jpg\" align=center style=\"width: 300px;\">\n",
    "\n"
   ]
  },
  {
   "cell_type": "markdown",
   "id": "94166f97",
   "metadata": {},
   "source": [
    "# <span style=\"color:darkgreen\">Chapitre 2 : Installation et configuration de FileZilla</span>\n"
   ]
  },
  {
   "cell_type": "markdown",
   "id": "b8ec4090",
   "metadata": {},
   "source": [
    "### <span style=\"color:red\">1-2) Configuration de FileZilla</span>\n"
   ]
  },
  {
   "cell_type": "markdown",
   "id": "3f12cf4a",
   "metadata": {},
   "source": [
    "Nous nous connectons au serveur FileZilla et nous allons créer un utilisateur :\n",
    "<img src=\"https://imgur.com/KUihIML.jpg\" align=center style=\"width: 600px;\">\n",
    "<img src=\"https://imgur.com/8WNpNpj.jpg\" align=center style=\"width: 400px;\">\n",
    "\n",
    "Notes : *Nous avons du enlever les pare-feu côter serveur pour que je puisse accéder au FTP de Adrien*\n",
    "\n",
    "Ensuite, je peux  télécharger son fichier :\n",
    "\n",
    "<img src=\"https://imgur.com/zJYchyj.jpg\" align=center style=\"width: 400px;\">\n",
    "\n",
    "Voici les logs : \n",
    "\n",
    "<img src=\"https://imgur.com/bTGjaSH.jpg\" align=center style=\"width: 400px;\">\n"
   ]
  },
  {
   "cell_type": "markdown",
   "id": "dc675526",
   "metadata": {},
   "source": [
    "# <span style=\"color:darkgreen\">Chapitre 3 : Récupération automatique du login et du mot de passe</span>\n"
   ]
  },
  {
   "cell_type": "markdown",
   "id": "ebaa561b",
   "metadata": {},
   "source": [
    "<img src=\"https://imgur.com/5LmSe0P.jpg\" align=center style=\"width: 600px;\">\n",
    "\n",
    "Le `user` est **Dark_Sidius** et le `password`est **Dark_Force**"
   ]
  },
  {
   "cell_type": "markdown",
   "id": "447af254",
   "metadata": {},
   "source": [
    "### <span style=\"color:red\">2) Création des commandes pour récupérer le login et mdp de l'utilisateur</span>\n"
   ]
  },
  {
   "cell_type": "code",
   "execution_count": 9,
   "id": "a0314fac",
   "metadata": {},
   "outputs": [
    {
     "name": "stdout",
     "output_type": "stream",
     "text": [
      "##################################################\n",
      "Récupération de l'utilisateur et le mot de passe :\n",
      "##################################################\n",
      "\n",
      "USER : [b'USER', b'Dark_Sidius']\n",
      "USER : Dark_Sidius\n",
      "PASSWORD : [b'PASS', b'Dark_Force']\n",
      "PASSWORD : Dark_Force\n"
     ]
    }
   ],
   "source": [
    "from scapy.all import *\n",
    "\n",
    "# rdpcap lit un fichier pcap ou pcapng (format Wireshark) et renvoie une liste de paquets\n",
    "paquets=rdpcap(\"Wireshark/McDiarmid.pcapng\")\n",
    "print(\"##################################################\")\n",
    "print(\"Récupération de l'utilisateur et le mot de passe :\")\n",
    "print(\"##################################################\\n\")\n",
    "\n",
    "# On récupère le 2ème paquets en données brutes indiqué par \"RAW\" (bytes notés b)\n",
    "print(\"USER :\", paquets[2][Raw].load.split(sep=None)) #affiche le contenu du paquet FTP ENCODÉ et séparer les chaines en fonction d'un séparateur (espace : sep = None)\n",
    "print(\"USER :\", paquets[2][Raw].load.split(sep=None)[1].decode('UTF8'))#affiche le contenu du paquet FTP DÉCODÉ\n",
    "# On récupère le 4ème paquets en données brutes indiqué par \"RAW\" (bytes notés b)\n",
    "print(\"PASSWORD :\", paquets[4][Raw].load.split(sep=None))#affiche le contenu du paquet FTP ENCODÉ et séparer les chaines en fonction d'un séparateur (espace : sep = None)\n",
    "print(\"PASSWORD :\", paquets[4][Raw].load.split(sep=None)[1].decode('UTF8'))#affiche le contenu du paquet FTP DÉCODÉ"
   ]
  },
  {
   "cell_type": "markdown",
   "id": "a624d46c",
   "metadata": {},
   "source": [
    "`Decode UTF8` nous permet de décoder notre format héxadécimal brute noté **b'**."
   ]
  },
  {
   "cell_type": "markdown",
   "id": "8a65c238",
   "metadata": {},
   "source": [
    "### <span style=\"color:red\">3) Écrire un script pour récupérer automatiquement le login et mot de passe de l’utilisateur</span>\n"
   ]
  },
  {
   "cell_type": "code",
   "execution_count": 69,
   "id": "7d39645d",
   "metadata": {},
   "outputs": [
    {
     "name": "stdout",
     "output_type": "stream",
     "text": [
      "le nom de l'utilisateur est :  Dark_Sidius\n",
      "le mot de passe  est :  Dark_Force\n"
     ]
    }
   ],
   "source": [
    "paquets=rdpcap(\"Wireshark/McDiarmid.pcapng\")\n",
    "\n",
    "for i in range(len(paquets)) : # parcours la capture wireshark :\n",
    "    if paquets[i][Raw].load.split(sep=None)[0].decode('latin1') == \"USER\" : # si dans la première valeur de la liste paquet[i][Raw] = à USER :#\n",
    "        user = paquets[i][Raw].load.split(sep=None)[1].decode('latin1') # prends la deuxième valeur de la liste paquet[i][Raw]#\n",
    "    if paquets[i][Raw].load.split(sep=None)[0].decode('latin1') == \"PASS\" : #même chose pour le password#\n",
    "        password = paquets[i][Raw].load.split(sep=None)[1].decode('latin1') #même chose pour le password#\n",
    "print(\"le nom de l'utilisateur est : \",user) \n",
    "print(\"le mot de passe  est : \",password)"
   ]
  },
  {
   "cell_type": "markdown",
   "id": "7f049e8c",
   "metadata": {},
   "source": [
    "# <span style=\"color:darkgreen\">Chapitre 4 : Récupération du fichier transmis à partir du numéro de port TCP et décodage du message chiffrée</span>\n"
   ]
  },
  {
   "cell_type": "markdown",
   "id": "6f474fa5",
   "metadata": {},
   "source": [
    "### <span style=\"color:red\">1) Identifier le paquet transportant les données du fichier transféré</span>"
   ]
  },
  {
   "cell_type": "markdown",
   "id": "8c0479c1",
   "metadata": {},
   "source": [
    "Pour identifier le plus simplement le paquet transportant les données du fichier transféré dans WireShark, il suffit de trouver le **port** source.</br>\n",
    "En loccurence, le port n° `20` (port lorsqu'il y'a des transferts de fichier sur le FTP).\n",
    "\n"
   ]
  },
  {
   "cell_type": "markdown",
   "id": "f71aa137",
   "metadata": {},
   "source": [
    "### <span style=\"color:red\">2) Créer un programme qui récupère toutes les données transférées dans la capture Wireshark et les stocker dans un fichier nommé SW2.pdf</span>"
   ]
  },
  {
   "cell_type": "code",
   "execution_count": 49,
   "id": "5d85cdb0",
   "metadata": {},
   "outputs": [
    {
     "name": "stdout",
     "output_type": "stream",
     "text": [
      "##############################################################\n",
      "Récupération de toutes les données transférées en cours...\n",
      "##############################################################\n",
      "\n",
      "\n",
      "##########################\n",
      "Récupération terminé !\n",
      "##########################\n"
     ]
    }
   ],
   "source": [
    "from scapy.all import *\n",
    "\n",
    "#ouverture/création de mon fichier pdf SW2\n",
    "fichier = open('SW2.pdf', 'ab')# a : ajouter du contenu et b : pour le format bytes\n",
    "\n",
    "# rdpcap lit un fichier pcap ou pcapng (format Wireshark)\n",
    "paquets=rdpcap(\"Wireshark/McDiarmid.pcapng\")\n",
    "print(\"##############################################################\")\n",
    "print(\"Récupération de toutes les données transférées en cours...\")\n",
    "print(\"##############################################################\\n\")\n",
    "\n",
    "\n",
    "# pour i dans compris dans les paquets\n",
    "for i in range(len(paquets)):\n",
    "    if paquets[i][TCP].sport == 20: #si les paquets[i] de protocole TCP de port source 20\n",
    "        fichier.write(bytes(paquets[i][Raw]))#alors ça écrit dans 'fichier' en bytes, les paquets du port source 20\n",
    "fichier.close() #ferme 'fichier'\n",
    "\n",
    "print(\"\\n##########################\")\n",
    "print(\"Récupération terminé !\")\n",
    "print(\"##########################\")\n"
   ]
  },
  {
   "cell_type": "markdown",
   "id": "592c31b6",
   "metadata": {},
   "source": [
    "### <span style=\"color:red\">3) Ouverture du fichier :</span>"
   ]
  },
  {
   "cell_type": "markdown",
   "id": "d2f3cc12",
   "metadata": {},
   "source": [
    "<img src=\"https://imgur.com/BwSXJL1.png\" align=center style=\"width: 400px;\">\n",
    "\n",
    "**Regarder ! Nous avons bel et bien intercepté une communication entre deux siths !\n",
    "Nous pouvons aperçevoir un message codé que nous allons devoir déchiffrer !**"
   ]
  },
  {
   "cell_type": "markdown",
   "id": "4516e75f",
   "metadata": {},
   "source": [
    "### <span style=\"color:red\">4) Le Jedi menacé est :</span>"
   ]
  },
  {
   "cell_type": "markdown",
   "id": "188c0887",
   "metadata": {},
   "source": [
    "<img src=\"https://imgur.com/q1ynUMr.png\" align=center style=\"width: 400px;\">\n",
    "\n",
    "**Le Maître Jedi Guillemin est menacé ! Il faut le sauver avant qu'il ne soit trop tard !**"
   ]
  },
  {
   "cell_type": "markdown",
   "id": "5a5334ae",
   "metadata": {},
   "source": [
    "### <span style=\"color:red\">5) Décodons le message des Siths</span>\n",
    "\n",
    "Le chiffrement utilisée est un chiffrement par substitution (une lettre du message est remplacée par une autre dans le message chiffré)</br>\n",
    "\n",
    "Heureusement, une personne infiltrée nous a fourni au prix de sa vie, la correspondance de la substitution \n",
    "<img src=\"https://imgur.com/jjKKBCk.png\" align=center style=\"width: 800px;\">\n",
    "\n"
   ]
  },
  {
   "cell_type": "code",
   "execution_count": 2,
   "id": "9d2c05c3",
   "metadata": {},
   "outputs": [
    {
     "name": "stdout",
     "output_type": "stream",
     "text": [
      "Entrez la chaîne à traduire :RWIG OTRTULO HULO RDMUHO DEIWODI VDO YDRT DK KULKDO VDO NDIOUHHDO JLT VDO  OLNNUIKDHK. TV DOK KDBNO RD XIWNNDI LH CIWHR EULN DK XWTID  EUBNIDHRID W HUO DHHDBTO JL'TVO RUTMDHK OD OULBDKKID W HUKID  NLTOOWHED. IDYUTHO HUKID XVUKKD RWHO VD OZOKDBD RD VW SUIRLID BDRTWHD  RWHO KIUTO YULIO DK BDHD LHD WKKWJLD EUHKID VW NVWHDKD WHRU.  TV HD RUTK NVLO IDOKDI WLELH OLIMTMWHK OLI EDKKD NVWHDKD DK  VW IWED WJLWVTOF RUTK RTONWIWTKID. RD NVLO VD YDRT RUHK YD KD YUTHO VW NFUKU DOK LH YDRT I&K. TV W  RDO JLWVTKDO DAEDNKTUHHDVVDO NULI V'THKDIEDNKTUH RDO  EUBBLHTEWKTUHO. KL RUTO VD KLDI. OUTO OWHO NTKTD. RWIG NVWCDLTO\n",
      "\n",
      "\n",
      "DARK SIDIOUS NOUS DEVONS ECRASER LES JEDI ET TOUTES LES PERSONNES QUI LES  SUPPORTENT. IL EST TEMPS DE FRAPPER UN GRAND COUP ET FAIRE  COMPRENDRE A NOS ENNEMIS QU'ILS DOIVENT SE SOUMETTRE A NOTRE  PUISSANCE. REJOINS NOTRE FLOTTE DANS LE SYSTEME DE LA BORDURE MEDIANE  DANS TROIS JOURS ET MENE UNE ATTAQUE CONTRE LA PLANETE ANDO.  IL NE DOIT PLUS RESTER AUCUN SURVIVANT SUR CETTE PLANETE ET  LA RACE AQUALISH DOIT DISPARAITRE. DE PLUS LE JEDI DONT JE TE JOINS LA PHOTO EST UN JEDI R&T. IL A  DES QUALITES EXCEPTIONNELLES POUR L'INTERCEPTION DES  COMMUNICATIONS. TU DOIS LE TUER. SOIS SANS PITIE. DARK PLAGEUIS\n",
      "\n",
      "##########################\n",
      "Récupération terminé !\n",
      "##########################\n"
     ]
    }
   ],
   "source": [
    "from scapy.all import *\n",
    "\n",
    "#ouverture/création de mon fichier pdf SW2\n",
    "fichier = open('SW2.pdf', 'r')# r : lire le fichier \n",
    "\n",
    "texte = input(str(\"Entrez la chaîne à traduire :\"))\n",
    "\n",
    "decrypt={'W' : 'A', \n",
    "      'S' :'B', \n",
    "      'E' : 'C', \n",
    "      'R' : 'D' , \n",
    "      'D' : 'E' , \n",
    "      'X' : 'F' , \n",
    "      'C' : 'G', \n",
    "      'F' : 'H' , \n",
    "      'T' : 'I' , \n",
    "      'Y' : 'J' , \n",
    "      'G' : 'K', \n",
    "      'V' : 'L' , \n",
    "      'B' : 'M' , \n",
    "      'H' : 'N' , \n",
    "      'U' : 'O' , \n",
    "      'N' : 'P' , \n",
    "      'J' : 'Q' , \n",
    "      'I' : 'R' , \n",
    "      'O' : 'S' , \n",
    "      'K' : 'T' , \n",
    "      'L' : 'U' , \n",
    "      'M' : 'V' , \n",
    "      'P' : 'W' , \n",
    "      'A' : 'X' , \n",
    "      'Z' : 'Y' , \n",
    "      'Q' : 'Z' ,\n",
    "      \"'\" : \"'\" ,\n",
    "      \" \" : \" \" ,\n",
    "      \"&\" : \"&\" ,\n",
    "      \".\" : \".\" ,\n",
    "      \":\" : \":\" }\n",
    "\n",
    "l= [] #liste vide\n",
    "for i in texte : #parcours tout le texte\n",
    "    l.append(decrypt[str(i)]) #on ajoute dans notre liste, la clé de décryptage pour chaque lettre \n",
    "l = \"\".join(l) #permet de réunir toutes les \"valeur de la liste dans une valeur\"\n",
    "print(\"\\n\")\n",
    "print(l) #affiche la liste\n",
    "\n",
    "print(\"\\n##########################\")\n",
    "print(\"Récupération terminé !\")\n",
    "print(\"##########################\")"
   ]
  },
  {
   "cell_type": "markdown",
   "id": "7f777aa4",
   "metadata": {},
   "source": [
    "<span style=\"color:red\">**Nous avons bien décrypté le message et le Maître Guillemin est en DANGER !**</span> </br>\n",
    "Nous lui avons envoyé un **hologram** sur son adresse `willy.guillemin@iut-velizy.uvsq.fr` **à temps** !\n",
    "\n",
    "<img src=\"https://imgur.com/37e6P81.png\" align=center style=\"width: 600px;\">\n"
   ]
  },
  {
   "cell_type": "markdown",
   "id": "7ef7fa44",
   "metadata": {},
   "source": [
    "# <span style=\"color:darkgreen\">Chapitre 5 : Récupération automatique du numéro de port TCP négocié pour le transfert et du fichier</span>"
   ]
  },
  {
   "cell_type": "markdown",
   "id": "bc442add",
   "metadata": {},
   "source": [
    "### <span style=\"color:red\">1) Création pas à pas des commandes pour récupérer le numéro de port négocié pour le transfert de données ainsi que le nom du fichier à transférer</span>"
   ]
  },
  {
   "cell_type": "code",
   "execution_count": 69,
   "id": "8ee0d182",
   "metadata": {
    "scrolled": true
   },
   "outputs": [
    {
     "name": "stdout",
     "output_type": "stream",
     "text": [
      "##############################################################\n",
      "Récupération du numéro de port pour le transfert de données...\n",
      "##############################################################\n",
      "\n",
      "Le port 1 est 219 et le deuxième est 167\n",
      "\n",
      "Le port négocié est : 56231\n",
      "\n",
      "#################################\n",
      "Récupération du nom du fichier...\n",
      "#################################\n",
      "\n",
      "Le nom du fichier est : attaque_sith.pdf\n",
      "\n",
      "##########################\n",
      "Récupération terminé !\n",
      "##########################\n"
     ]
    }
   ],
   "source": [
    "from scapy.all import *\n",
    "\n",
    "n = 0 #variable n initialisé à 0\n",
    "# rdpcap lit un fichier pcap ou pcapng (format Wireshark)\n",
    "paquets=rdpcap(\"Wireshark/McDiarmid.pcapng\")\n",
    "print(\"##############################################################\")\n",
    "print(\"Récupération du numéro de port pour le transfert de données...\")\n",
    "print(\"##############################################################\\n\")\n",
    "\n",
    "#####################################################################\n",
    "# RÉCUPÉRATION DU PORT NÉGOCIÉ\n",
    "#####################################################################\n",
    "\n",
    "for i in range(len(paquets)): # pour i dans compris dans les paquets\n",
    "    if paquets[6][Raw].load.split(sep=None)[0].decode('latin1') == 'PORT' : #si les paquets[6] sont égaux à 'PORT'\n",
    "        n = n+1 # ajouter 1 à n à chaque fois que nous passons dans la boucle\n",
    "        port1 = paquets[6][Raw].load.decode('latin1') # port1 sera le paquet numéro 6 de ma capture en données brute décodé en latin1\n",
    "        port11 = port1.split(\",\")[4] # Séparer la 6eme case par des ',' jusq'au 4eme charactère pour obtenir le premier port\n",
    "        port2 = paquets[6][Raw].load.decode('latin1')\n",
    "        port22 = port1.split(\",\")[5]  # Séparer la 6eme case par des ',' jusq'au 5eme charactère pour obtenir le premier port\n",
    "        portneg = int(port11)*256+int(port22) # Formule pour calculer le port négocier : Port1 * 256 + port2\n",
    "        # Afficher le numéro de la trame de transfert ainsi que son port\n",
    "        \n",
    "print(f\"Le port 1 est {port11} et le deuxième est {port22}\")\n",
    "print(f\"Le port négocié est : {portneg}\")\n",
    "\n",
    "\n",
    "print(\"\\n#################################\")\n",
    "print(\"Récupération du nom du fichier...\")\n",
    "print(\"#################################\\n\")\n",
    "\n",
    "print(\"Le nom du fichier est :\", paquets[14][Raw].load.split(sep=None)[1].decode('latin1'))\n",
    "\n",
    "print(\"\\n##########################\")\n",
    "print(\"Récupération terminé !\")\n",
    "print(\"##########################\")"
   ]
  },
  {
   "cell_type": "markdown",
   "id": "b228bf00",
   "metadata": {},
   "source": [
    "- Nous avons bien **récupérer** le numéro de port négocié pour le **transfert** de données (mais en dur).</br>\n",
    "Le port négocié est **56231**. Cela permet d'éviter les conflits de ports.\n",
    "\n",
    "\n",
    "- Nous avons bien **récupérer** le nom du fichier mais nous l'avons fais en dur. </br>\n",
    "Nous voulons créer un programme pour récupérer automatiquement le nom du fichier et le fichier en plus !</br>\n",
    "\n",
    "Maître Jedi Guillemin a besoin de notre aide pour intercepter les futurs messages des Siths (s'ils sont assez bête pour garder leur méthode de cryptage) !\n"
   ]
  },
  {
   "cell_type": "markdown",
   "id": "8b5839a1",
   "metadata": {},
   "source": [
    "### <span style=\"color:red\">2) Récupérer automatiquement le numéro de port négocié pour le transfert, le nom du fichier et le fichier</span>\n",
    "\n",
    "- Nous avons bien ajouté la **récupération** du nom du fichier **automatiquement** et nous avons bien **demandé** si l'utilisateur voulait **récupérer** le fichier en plus.\n",
    "\n",
    "Désormais, nous devons réaliser l'**automatisation** du port **négocié**.\n",
    "\n",
    "Toutes les explications sont dans le code sous forme de **commentaires** :"
   ]
  },
  {
   "cell_type": "code",
   "execution_count": 74,
   "id": "89e86bac",
   "metadata": {
    "scrolled": true
   },
   "outputs": [
    {
     "name": "stdout",
     "output_type": "stream",
     "text": [
      "##############################################################\n",
      "Récupération du numéro de port pour le transfert de données...\n",
      "##############################################################\n",
      "\n",
      "##############################################################\n",
      "Port numéro 20 ou 21 ? 20\n",
      "##############################################################\n",
      "\n",
      "Le port 1 est 219 et le deuxième est 172\n",
      "\n",
      "Le port négocié est : 56236\n",
      "#################################\n",
      "Récupération du nom du fichier...\n",
      "#################################\n",
      "\n",
      "Le nom du fichier est : attaque_sith.pdf\n",
      "\n",
      "##############################################################\n",
      "Souhaitez-vous récupérer le fichier ? (o/n) o\n",
      "##############################################################\n",
      "\n",
      "Le fichier a été récupérer\n",
      "\n",
      "##########################\n",
      "Programme terminé !\n",
      "##########################\n"
     ]
    }
   ],
   "source": [
    "from scapy.all import *\n",
    "\n",
    "x = 0 # variable utilisé pour trouver le nom du fichier\n",
    "n = 0 #variable n initialisé à 0\n",
    "# rdpcap lit un fichier pcap ou pcapng (format Wireshark)\n",
    "paquets=rdpcap(\"Wireshark/McDiarmid.pcapng\")\n",
    "print(\"##############################################################\")\n",
    "print(\"Récupération du numéro de port pour le transfert de données...\")\n",
    "print(\"##############################################################\\n\")\n",
    "# Choix du port par l'utilisateur\n",
    "print(\"##############################################################\")\n",
    "paquet = input(str(\"Port numéro 20 ou 21 ? \"))\n",
    "print(\"##############################################################\\n\")\n",
    "\n",
    "#####################################################################\n",
    "# RÉCUPÉRATION DU PORT NEGOCIÉ\n",
    "#####################################################################\n",
    "for x in range(len(paquets)): # pour i dans compris dans les paquets\n",
    "    if paquets[x][Raw].load.split(sep=None)[0].decode('latin1') == 'PORT' : #si les paquets[x] au caractère 0 sont égaux à 'PORT'\n",
    "        n = n+1 # ajouter 1 à n à chaque fois que nous passons dans la boucle\n",
    "        port1 = paquets[x][Raw].load.decode('latin1') # port1 sera le paquet numéro x de ma capture en données brute décodé en latin1\n",
    "        port11 = port1.split(\",\")[4] # Séparer la 6eme case par des ',' jusq'au 4eme charactère pour obtenir le premier port\n",
    "        port2 = paquets[x][Raw].load.decode('latin1')\n",
    "        port22 = port1.split(\",\")[5]  # Séparer la 6eme case par des ',' jusq'au 5eme charactère pour obtenir le premier port\n",
    "        portneg = int(port11)*256+int(port22) # Formule pour calculer le port négocier : Port1 * 256 + port2\n",
    "        # Afficher le numéro de la trame de transfert ainsi que son port\n",
    "        \n",
    "print(f\"Le port 1 est {port11} et le deuxième est {port22}\")\n",
    "print(f\"Le port négocié est : {portneg}\")\n",
    "    \n",
    "#####################################################################\n",
    "# RÉCUPÉRATION DU NOM DU FICHIER SI LE PORT EST LE NUMERO 20\n",
    "#####################################################################\n",
    "\n",
    "# Si le paquet est du port '20'\n",
    "if paquet == '20':\n",
    "    print(\"#################################\")\n",
    "    print(\"Récupération du nom du fichier...\")\n",
    "    print(\"#################################\\n\")\n",
    "\n",
    "    for x in range(len(paquets)): # Pour x compris dans les paquets\n",
    "        if (paquets[x][Raw].load.split(sep=None)[0].decode('latin1')) == 'RETR': #  Si les paquets x au champ désiré 0 sont égaux à la chaine de caractère 'RETR'\n",
    "            print(\"Le nom du fichier est :\", paquets[x][Raw].load.split(sep=None)[1].decode('latin1')) # alors écrire au champ désiré 1 décodé au format latin1\n",
    "else:\n",
    "    print(\"Il n'y a pas d'envoie de fichier sur le port 21\")\n",
    "\n",
    "#####################################################################\n",
    "# POUR RÉCUPÉRER LE FICHIER AU FORMAT PDF SI LE PORT EST 20\n",
    "#####################################################################\n",
    "\n",
    "# Si le paquet est du port '20'\n",
    "if paquet == '20':\n",
    "    # rdpcap lit un fichier pcap ou pcapng (format Wireshark)\n",
    "    paquets=rdpcap(\"Wireshark/McDiarmid.pcapng\")\n",
    "    print(\"\\n##############################################################\")\n",
    "    recup = input(str(\"Souhaitez-vous récupérer le fichier ? (o/n) \"))\n",
    "    print(\"##############################################################\\n\")\n",
    "\n",
    "    if recup == 'o':\n",
    "        #ouverture/création de mon fichier pdf SW2\n",
    "        fichier = open('SW2.pdf', 'ab')# a : ajouter du contenu et b : pour le format bytes\n",
    "\n",
    "        # pour i dans compris dans les paquets\n",
    "        for i in range(len(paquets)):\n",
    "            if paquets[i][TCP].sport == 20: #si les paquets[i] de protocole TCP de port source 20\n",
    "                fichier.write(bytes(paquets[i][Raw]))#alors ça écrit dans 'fichier' en bytes, les paquets du port source 20\n",
    "        fichier.close() #ferme 'fichier'\n",
    "        print(\"Le fichier a été récupérer\")\n",
    "    else:\n",
    "        print(\"Le fichier n'a pas été récupéré par décision de l'utilisateur\")\n",
    "#####################################################################\n",
    "\n",
    "print(\"\\n##########################\")\n",
    "print(\"Programme terminé !\")\n",
    "print(\"##########################\")"
   ]
  },
  {
   "cell_type": "markdown",
   "id": "29a15058",
   "metadata": {},
   "source": [
    "# <span style=\"color:darkgreen\">Chapitre 6 : Attaque MITM (Man In The Middle)</span>\n",
    "\n",
    "<div class=\"alert alert-block alert-info bilan\">\n",
    "Pour éviter que les Jedis me transmettent les fichiers qu'ils subtilisent à l’ennemi.</br>\n",
    "Il est souhaitable que nous puissions récupérer le login/mot de passe et les fichiers en temps réel lorsque nous interceptons les communications des Siths avec nos attaques MITM\n",
    "</div>\n",
    "\n",
    "Tout d'abord, qu'est-ce qu'une attaque **Man In The Middle** ?\n",
    "<div class=\"alert alert-block alert-info bilan\">\n",
    "\n",
    "Une attaque **Man In The Middle** est une cyberattaque dans laquelle l'attaquant relaie secrètement et éventuellement modifie les communications entre deux parties qui croient communiquer directement l'une avec l'autre, car l'attaquant s'est inséré entre les deux parties\n",
    "    \n",
    "</div>\n"
   ]
  },
  {
   "cell_type": "markdown",
   "id": "4d2c5cdf",
   "metadata": {},
   "source": [
    "### <span style=\"color:red\">1) Création d'un script qui :</span>\n",
    "\n",
    "- a. Sniff les paquets FTP\n",
    "- b. Récupère le login et mot de passe de l’utilisateur\n",
    "- c. Identifie le numéro de port négocié pour un transfert de fichier ainsi que le nom du fichier et la fin de transfert\n",
    "- d. Enregistrer le fichier avec le nom de fichier utilisé pour le transfert\n",
    "\n",
    "**Qu'est-ce que le sniffing ?**\n",
    "<div class=\"alert alert-block alert-info bilan\">\n",
    "Le sniffing est une technique qui consiste à se mettre en écoute sur le réseau afin de voir quels sont les échanges de données. \n",
    "</div>\n",
    "    \n",
    "Pour cette partie, nous **voulons** sniffer les paquets FTP :\n",
    "\n",
    "**sniff** permet de capturer le trafic réseau à partir d'une ou plusieurs interfaces. sniff() a 6 options :\n",
    "\n",
    "- `filter` : filtre les paquets à l'intérieur du noyau Linux ce qui rend le filtrage très rapide.\n",
    "- `count` : nombre de paquet à capturer.\n",
    "- `prn` : nom de la fonction à appliquer à chaque paquet reçu.\n",
    "- `lfilter` : filtre les paquets à l'aide d'une fonction Python, on pourra utiliser une fonction lambda. \n",
    "- `timeout` : durée de la capture, par défaut None=∞ (^C pour arrêter)\n",
    "- `iface` : interface sur laquelle on souhaite capturer les paquets (défaut :all)\n",
    "- `store` : s'il faut stocker les paquets capturés ou les supprimer (store=0).\n",
    "- `stopfilter` : fonction à évaluer pour arrêter la capture (la fonction doit retourner true pour arrêter, false pour continuer)"
   ]
  },
  {
   "cell_type": "markdown",
   "id": "9aa7e5dd",
   "metadata": {},
   "source": [
    "Tout d'abord, nous avons remarqué que le **FTP** était crypté via le chiffrement **TLS**.</br>\n",
    "<div class=\"alert alert-block alert-info bilan\">\n",
    "TLS signifie « Transport Layer Security », c’est-à-dire « sécurité de la couche de transport ». \n",
    "    \n",
    "Il permet de **chiffrer** les flux de données sur Internet afin que ces données ne puissent être lues **que** par les **destinataires autorisés**.\n",
    "</div>\n",
    "\n",
    "Du coup, nous nous sommes connectés sur le serveur via un mode dit *simple* sans **chiffrement** pour éviter d'avoir des paquets cryptés.\n",
    "\n",
    "<img src=\"https://imgur.com/CTojuZ0.png\" align=center style=\"width: 800px;\">\n"
   ]
  },
  {
   "cell_type": "markdown",
   "id": "6b78dffc",
   "metadata": {},
   "source": [
    "### <span style=\"color:red\">a) Interception d'une connexion FTP entre le serveur FTP et le client</span>\n"
   ]
  },
  {
   "cell_type": "code",
   "execution_count": 22,
   "id": "365d2333",
   "metadata": {},
   "outputs": [
    {
     "data": {
      "text/plain": [
       "<Sniffed: TCP:0 UDP:0 ICMP:0 Other:0>"
      ]
     },
     "execution_count": 22,
     "metadata": {},
     "output_type": "execute_result"
    }
   ],
   "source": [
    "from scapy.all import *\n",
    "\n",
    "def loginpass (paquets):\n",
    "    try:\n",
    "        if paquets.haslayer(Raw): # si les paquets ont la couche Raw (données brutes) :\n",
    "            if paquets[Raw].load.split(sep=None)[0].decode('latin1') == \"USER\":  # si dans la première valeur de la liste paquet[i][Raw] = à USER :#\n",
    "                user = paquets[Raw].load.split(sep=None)[1].decode('latin1')  # prends la deuxième valeur de la liste paquet[i][Raw]#\n",
    "                print(\"le nom de l'utilisateur est : \", user)\n",
    "            if paquets[Raw].load.split(sep=None)[0].decode('latin1') == \"PASS\":  # même chose pour le password#\n",
    "                password = paquets[Raw].load.split(sep=None)[1].decode('latin1')  # même chose pour le password#\n",
    "                print(\"le mot de passe  est : \", password)\n",
    "    except:\n",
    "        pass\n",
    "sniff(prn=loginpass,filter =\"tcp port 20 or 21\")"
   ]
  },
  {
   "cell_type": "markdown",
   "id": "9a6b73de",
   "metadata": {},
   "source": [
    "Voici un aperçu du résultat de notre programme dans *PyCharm*, cela ne fonctionne malheureusement pas dans le Notebook :\n",
    "\n",
    "<img src=\"https://imgur.com/p4OLOh7.png\" align=center style=\"width: 800px;\">\n"
   ]
  },
  {
   "cell_type": "markdown",
   "id": "8fb822c3",
   "metadata": {},
   "source": [
    "<img src=\"https://www.consultancy.nl/profile/media/conclusion-spotlight-2018-05-17-123251893.png\" align=center style=\"width: 400px;\">"
   ]
  },
  {
   "cell_type": "markdown",
   "id": "1843f79a",
   "metadata": {},
   "source": [
    "Nous n'avons malheureusement pas pu finir sachant que notre code parait fonctionnel. </br>\n",
    "Nous sommes allés chercher de l'aide pour voir si nos camarades padawan avaient réussis et le code paraissait semblable au nôtre, ce qui nous frustre énormément.</br>\n",
    "Nous avons préférés terminer le notebook, le paufiner pour qu'il soit agréable et intuitif à lire et bien expliqué ce que nous avons compris et fait durant cette SAE.</br>\n",
    "Nous avons fais le maximum pour détailler et expliquer les programmes, les applications, nos méthodes, nos chapitres, ...</br>"
   ]
  },
  {
   "cell_type": "markdown",
   "id": "eb1638e0",
   "metadata": {},
   "source": [
    "\n",
    "\n",
    "**Notre SAE se résume par le fait que :**\n",
    "- Nous avons bien découvert l'interception du transfert de fichier entre deux Siths sur WireShark\n",
    "- Nous avons bien récupèré le login et password d'un Sith\n",
    "- Nous avons bien installé et configuré FileZilla\n",
    "- Nous avons bien crée un script permettant de récupérer en dur un login et mot de passe\n",
    "- Nous avons bien crée un script permettant de récupérer automatiquement un login et un mot de passe\n",
    "- Nous avons bien crée un programme qui récupère toutes les données transférées dans la capture Wireshark et les stockes dans un fichier nommé SW2.pdf\n",
    "- Nous avons bien crée un programme qui permet de déchiffrer le message du Dark Sidious.\n",
    "- Nous avons bien récupèré automatiquement le numéro de port négocié pour le transfert, le nom du fichier et le fichier.\n",
    "- Nous avons bien récupèré le login et mot de passe de l’utilisateur automatiquement via une connexion FTP\n",
    "\n",
    "<img src=\"http://www.pngmart.com/files/7/Check-Background-PNG.png\" align=right style=\"width: 50px;\"></img>\n",
    "\n",
    "**Ce que nous n'avons pas terminés dans le dernier chapitre:**\n",
    "\n",
    "- a. Sniff les paquets FTP\n",
    "- c. Identifie le numéro de port négocié pour un transfert de fichier ainsi que le nom du fichier et la fin de transfert\n",
    "- d. Enregistrer le fichier avec le nom de fichier utilisé pour le transfer\n",
    "\n",
    "<img src=\"http://sweetclipart.com/multisite/sweetclipart/files/x_mark_red.png\" align=right style=\"width: 50px;\"></img>\n",
    "\n"
   ]
  },
  {
   "cell_type": "markdown",
   "id": "61437070",
   "metadata": {},
   "source": [
    "*PS : McDiarmid est un acteur mondialement célèbre pour avoir joué le rôle de l'empereur Sheev Palpatine / Dark Sidious dans la saga Star Wars.  Il apparaît dans 6 des épisodes de la saga ainsi que dans la série d'animation Star Wars Rebels.*"
   ]
  }
 ],
 "metadata": {
  "kernelspec": {
   "display_name": "Python 3 (ipykernel)",
   "language": "python",
   "name": "python3"
  },
  "language_info": {
   "codemirror_mode": {
    "name": "ipython",
    "version": 3
   },
   "file_extension": ".py",
   "mimetype": "text/x-python",
   "name": "python",
   "nbconvert_exporter": "python",
   "pygments_lexer": "ipython3",
   "version": "3.9.7"
  }
 },
 "nbformat": 4,
 "nbformat_minor": 5
}
